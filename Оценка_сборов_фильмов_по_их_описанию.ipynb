{
  "nbformat": 4,
  "nbformat_minor": 0,
  "metadata": {
    "colab": {
      "provenance": [],
      "include_colab_link": true
    },
    "kernelspec": {
      "name": "python3",
      "display_name": "Python 3"
    },
    "language_info": {
      "name": "python"
    }
  },
  "cells": [
    {
      "cell_type": "markdown",
      "metadata": {
        "id": "view-in-github",
        "colab_type": "text"
      },
      "source": [
        "<a href=\"https://colab.research.google.com/github/LFBenta/Film-outcomes-by-their-description/blob/main/%D0%9E%D1%86%D0%B5%D0%BD%D0%BA%D0%B0_%D1%81%D0%B1%D0%BE%D1%80%D0%BE%D0%B2_%D1%84%D0%B8%D0%BB%D1%8C%D0%BC%D0%BE%D0%B2_%D0%BF%D0%BE_%D0%B8%D1%85_%D0%BE%D0%BF%D0%B8%D1%81%D0%B0%D0%BD%D0%B8%D1%8E.ipynb\" target=\"_parent\"><img src=\"https://colab.research.google.com/assets/colab-badge.svg\" alt=\"Open In Colab\"/></a>"
      ]
    },
    {
      "cell_type": "markdown",
      "source": [
        "# Оценка кассовых сборов фильма по описанию"
      ],
      "metadata": {
        "id": "GEKLVsnV3I2a"
      }
    },
    {
      "cell_type": "markdown",
      "source": [
        "### Библеотеки-Подключения"
      ],
      "metadata": {
        "id": "U1dSB-pDDJSN"
      }
    },
    {
      "cell_type": "markdown",
      "source": [
        "Представлены все подключения и библеотеки использованные в работе."
      ],
      "metadata": {
        "id": "9NvHR5HGb_Ez"
      }
    },
    {
      "cell_type": "code",
      "source": [
        "# Mount to google drive for import and export data\n",
        "from google.colab import drive\n",
        "drive.mount('/content/drive')"
      ],
      "metadata": {
        "colab": {
          "base_uri": "https://localhost:8080/"
        },
        "id": "LygfrCi76EvY",
        "outputId": "969de20f-19cd-4a91-fcce-cf1764ef06ad"
      },
      "execution_count": null,
      "outputs": [
        {
          "output_type": "stream",
          "name": "stdout",
          "text": [
            "Drive already mounted at /content/drive; to attempt to forcibly remount, call drive.mount(\"/content/drive\", force_remount=True).\n"
          ]
        }
      ]
    },
    {
      "cell_type": "code",
      "execution_count": null,
      "metadata": {
        "id": "BZ3ZkNIE2HuJ"
      },
      "outputs": [],
      "source": [
        "# Initial libraries\n",
        "import pandas as pd\n",
        "import re\n",
        "import string\n",
        "import numpy as np\n",
        "import pickle\n",
        "import tensorflow as tf"
      ]
    },
    {
      "cell_type": "code",
      "source": [
        "# Regression models import from sklearn\n",
        "from sklearn.tree import DecisionTreeRegressor\n",
        "from sklearn.ensemble import BaggingRegressor, HistGradientBoostingRegressor\n",
        "from sklearn.neural_network import MLPRegressor\n",
        "from sklearn.svm import SVR\n",
        "from sklearn.linear_model import LinearRegression, Ridge, Lasso, ElasticNet"
      ],
      "metadata": {
        "id": "6P6hMChlqXTr"
      },
      "execution_count": null,
      "outputs": []
    },
    {
      "cell_type": "code",
      "source": [
        "# Methods for getting metrics\n",
        "from sklearn.metrics import mean_absolute_error\n",
        "from sklearn.metrics import r2_score\n",
        "from sklearn.metrics import mean_squared_error"
      ],
      "metadata": {
        "id": "7ssQD_xn7y9X"
      },
      "execution_count": null,
      "outputs": []
    },
    {
      "cell_type": "code",
      "source": [
        "# Method for splitting sample to train and test\n",
        "from sklearn.model_selection import train_test_split"
      ],
      "metadata": {
        "id": "OAqq_Xhb9rfS"
      },
      "execution_count": null,
      "outputs": []
    },
    {
      "cell_type": "code",
      "source": [
        "# Methods for dimensionality reduction\n",
        "from sklearn.preprocessing import StandardScaler\n",
        "from sklearn.decomposition import PCA"
      ],
      "metadata": {
        "id": "IapKriT7oGBJ"
      },
      "execution_count": null,
      "outputs": []
    },
    {
      "cell_type": "code",
      "source": [
        "# Methods for hyperparametrs search\n",
        "from sklearn.model_selection import GridSearchCV\n",
        "from sklearn.model_selection import RandomizedSearchCV"
      ],
      "metadata": {
        "id": "R8FRE8qbireO"
      },
      "execution_count": null,
      "outputs": []
    },
    {
      "cell_type": "code",
      "source": [
        "# Spacy + trained pipeline import\n",
        "import spacy\n",
        "!python -m spacy download en_core_web_md"
      ],
      "metadata": {
        "id": "g0NAZxNUzKEo",
        "colab": {
          "base_uri": "https://localhost:8080/"
        },
        "outputId": "83669d1d-f1d4-4800-b3b4-b56a434eaaad",
        "collapsed": true
      },
      "execution_count": null,
      "outputs": [
        {
          "output_type": "stream",
          "name": "stdout",
          "text": [
            "Collecting en-core-web-md==3.7.1\n",
            "  Downloading https://github.com/explosion/spacy-models/releases/download/en_core_web_md-3.7.1/en_core_web_md-3.7.1-py3-none-any.whl (42.8 MB)\n",
            "\u001b[2K     \u001b[90m━━━━━━━━━━━━━━━━━━━━━━━━━━━━━━━━━━━━━━━━\u001b[0m \u001b[32m42.8/42.8 MB\u001b[0m \u001b[31m11.7 MB/s\u001b[0m eta \u001b[36m0:00:00\u001b[0m\n",
            "\u001b[?25hRequirement already satisfied: spacy<3.8.0,>=3.7.2 in /usr/local/lib/python3.10/dist-packages (from en-core-web-md==3.7.1) (3.7.4)\n",
            "Requirement already satisfied: spacy-legacy<3.1.0,>=3.0.11 in /usr/local/lib/python3.10/dist-packages (from spacy<3.8.0,>=3.7.2->en-core-web-md==3.7.1) (3.0.12)\n",
            "Requirement already satisfied: spacy-loggers<2.0.0,>=1.0.0 in /usr/local/lib/python3.10/dist-packages (from spacy<3.8.0,>=3.7.2->en-core-web-md==3.7.1) (1.0.5)\n",
            "Requirement already satisfied: murmurhash<1.1.0,>=0.28.0 in /usr/local/lib/python3.10/dist-packages (from spacy<3.8.0,>=3.7.2->en-core-web-md==3.7.1) (1.0.10)\n",
            "Requirement already satisfied: cymem<2.1.0,>=2.0.2 in /usr/local/lib/python3.10/dist-packages (from spacy<3.8.0,>=3.7.2->en-core-web-md==3.7.1) (2.0.8)\n",
            "Requirement already satisfied: preshed<3.1.0,>=3.0.2 in /usr/local/lib/python3.10/dist-packages (from spacy<3.8.0,>=3.7.2->en-core-web-md==3.7.1) (3.0.9)\n",
            "Requirement already satisfied: thinc<8.3.0,>=8.2.2 in /usr/local/lib/python3.10/dist-packages (from spacy<3.8.0,>=3.7.2->en-core-web-md==3.7.1) (8.2.3)\n",
            "Requirement already satisfied: wasabi<1.2.0,>=0.9.1 in /usr/local/lib/python3.10/dist-packages (from spacy<3.8.0,>=3.7.2->en-core-web-md==3.7.1) (1.1.2)\n",
            "Requirement already satisfied: srsly<3.0.0,>=2.4.3 in /usr/local/lib/python3.10/dist-packages (from spacy<3.8.0,>=3.7.2->en-core-web-md==3.7.1) (2.4.8)\n",
            "Requirement already satisfied: catalogue<2.1.0,>=2.0.6 in /usr/local/lib/python3.10/dist-packages (from spacy<3.8.0,>=3.7.2->en-core-web-md==3.7.1) (2.0.10)\n",
            "Requirement already satisfied: weasel<0.4.0,>=0.1.0 in /usr/local/lib/python3.10/dist-packages (from spacy<3.8.0,>=3.7.2->en-core-web-md==3.7.1) (0.3.4)\n",
            "Requirement already satisfied: typer<0.10.0,>=0.3.0 in /usr/local/lib/python3.10/dist-packages (from spacy<3.8.0,>=3.7.2->en-core-web-md==3.7.1) (0.9.4)\n",
            "Requirement already satisfied: smart-open<7.0.0,>=5.2.1 in /usr/local/lib/python3.10/dist-packages (from spacy<3.8.0,>=3.7.2->en-core-web-md==3.7.1) (6.4.0)\n",
            "Requirement already satisfied: tqdm<5.0.0,>=4.38.0 in /usr/local/lib/python3.10/dist-packages (from spacy<3.8.0,>=3.7.2->en-core-web-md==3.7.1) (4.66.4)\n",
            "Requirement already satisfied: requests<3.0.0,>=2.13.0 in /usr/local/lib/python3.10/dist-packages (from spacy<3.8.0,>=3.7.2->en-core-web-md==3.7.1) (2.31.0)\n",
            "Requirement already satisfied: pydantic!=1.8,!=1.8.1,<3.0.0,>=1.7.4 in /usr/local/lib/python3.10/dist-packages (from spacy<3.8.0,>=3.7.2->en-core-web-md==3.7.1) (2.7.1)\n",
            "Requirement already satisfied: jinja2 in /usr/local/lib/python3.10/dist-packages (from spacy<3.8.0,>=3.7.2->en-core-web-md==3.7.1) (3.1.4)\n",
            "Requirement already satisfied: setuptools in /usr/local/lib/python3.10/dist-packages (from spacy<3.8.0,>=3.7.2->en-core-web-md==3.7.1) (67.7.2)\n",
            "Requirement already satisfied: packaging>=20.0 in /usr/local/lib/python3.10/dist-packages (from spacy<3.8.0,>=3.7.2->en-core-web-md==3.7.1) (24.0)\n",
            "Requirement already satisfied: langcodes<4.0.0,>=3.2.0 in /usr/local/lib/python3.10/dist-packages (from spacy<3.8.0,>=3.7.2->en-core-web-md==3.7.1) (3.4.0)\n",
            "Requirement already satisfied: numpy>=1.19.0 in /usr/local/lib/python3.10/dist-packages (from spacy<3.8.0,>=3.7.2->en-core-web-md==3.7.1) (1.25.2)\n",
            "Requirement already satisfied: language-data>=1.2 in /usr/local/lib/python3.10/dist-packages (from langcodes<4.0.0,>=3.2.0->spacy<3.8.0,>=3.7.2->en-core-web-md==3.7.1) (1.2.0)\n",
            "Requirement already satisfied: annotated-types>=0.4.0 in /usr/local/lib/python3.10/dist-packages (from pydantic!=1.8,!=1.8.1,<3.0.0,>=1.7.4->spacy<3.8.0,>=3.7.2->en-core-web-md==3.7.1) (0.7.0)\n",
            "Requirement already satisfied: pydantic-core==2.18.2 in /usr/local/lib/python3.10/dist-packages (from pydantic!=1.8,!=1.8.1,<3.0.0,>=1.7.4->spacy<3.8.0,>=3.7.2->en-core-web-md==3.7.1) (2.18.2)\n",
            "Requirement already satisfied: typing-extensions>=4.6.1 in /usr/local/lib/python3.10/dist-packages (from pydantic!=1.8,!=1.8.1,<3.0.0,>=1.7.4->spacy<3.8.0,>=3.7.2->en-core-web-md==3.7.1) (4.11.0)\n",
            "Requirement already satisfied: charset-normalizer<4,>=2 in /usr/local/lib/python3.10/dist-packages (from requests<3.0.0,>=2.13.0->spacy<3.8.0,>=3.7.2->en-core-web-md==3.7.1) (3.3.2)\n",
            "Requirement already satisfied: idna<4,>=2.5 in /usr/local/lib/python3.10/dist-packages (from requests<3.0.0,>=2.13.0->spacy<3.8.0,>=3.7.2->en-core-web-md==3.7.1) (3.7)\n",
            "Requirement already satisfied: urllib3<3,>=1.21.1 in /usr/local/lib/python3.10/dist-packages (from requests<3.0.0,>=2.13.0->spacy<3.8.0,>=3.7.2->en-core-web-md==3.7.1) (2.0.7)\n",
            "Requirement already satisfied: certifi>=2017.4.17 in /usr/local/lib/python3.10/dist-packages (from requests<3.0.0,>=2.13.0->spacy<3.8.0,>=3.7.2->en-core-web-md==3.7.1) (2024.2.2)\n",
            "Requirement already satisfied: blis<0.8.0,>=0.7.8 in /usr/local/lib/python3.10/dist-packages (from thinc<8.3.0,>=8.2.2->spacy<3.8.0,>=3.7.2->en-core-web-md==3.7.1) (0.7.11)\n",
            "Requirement already satisfied: confection<1.0.0,>=0.0.1 in /usr/local/lib/python3.10/dist-packages (from thinc<8.3.0,>=8.2.2->spacy<3.8.0,>=3.7.2->en-core-web-md==3.7.1) (0.1.4)\n",
            "Requirement already satisfied: click<9.0.0,>=7.1.1 in /usr/local/lib/python3.10/dist-packages (from typer<0.10.0,>=0.3.0->spacy<3.8.0,>=3.7.2->en-core-web-md==3.7.1) (8.1.7)\n",
            "Requirement already satisfied: cloudpathlib<0.17.0,>=0.7.0 in /usr/local/lib/python3.10/dist-packages (from weasel<0.4.0,>=0.1.0->spacy<3.8.0,>=3.7.2->en-core-web-md==3.7.1) (0.16.0)\n",
            "Requirement already satisfied: MarkupSafe>=2.0 in /usr/local/lib/python3.10/dist-packages (from jinja2->spacy<3.8.0,>=3.7.2->en-core-web-md==3.7.1) (2.1.5)\n",
            "Requirement already satisfied: marisa-trie>=0.7.7 in /usr/local/lib/python3.10/dist-packages (from language-data>=1.2->langcodes<4.0.0,>=3.2.0->spacy<3.8.0,>=3.7.2->en-core-web-md==3.7.1) (1.1.1)\n",
            "\u001b[38;5;2m✔ Download and installation successful\u001b[0m\n",
            "You can now load the package via spacy.load('en_core_web_md')\n",
            "\u001b[38;5;3m⚠ Restart to reload dependencies\u001b[0m\n",
            "If you are in a Jupyter or Colab notebook, you may need to restart Python in\n",
            "order to load all the package's dependencies. You can do this by selecting the\n",
            "'Restart kernel' or 'Restart runtime' option.\n"
          ]
        }
      ]
    },
    {
      "cell_type": "code",
      "source": [
        "# Library witch got regression model\n",
        "%pip install catboost\n",
        "from catboost import CatBoostRegressor"
      ],
      "metadata": {
        "colab": {
          "base_uri": "https://localhost:8080/"
        },
        "id": "N0imfaEcVpHf",
        "outputId": "b4239aeb-4d66-4abe-db77-522cda6a3126",
        "collapsed": true
      },
      "execution_count": null,
      "outputs": [
        {
          "output_type": "stream",
          "name": "stdout",
          "text": [
            "Requirement already satisfied: catboost in /usr/local/lib/python3.10/dist-packages (1.2.5)\n",
            "Requirement already satisfied: graphviz in /usr/local/lib/python3.10/dist-packages (from catboost) (0.20.3)\n",
            "Requirement already satisfied: matplotlib in /usr/local/lib/python3.10/dist-packages (from catboost) (3.7.1)\n",
            "Requirement already satisfied: numpy>=1.16.0 in /usr/local/lib/python3.10/dist-packages (from catboost) (1.25.2)\n",
            "Requirement already satisfied: pandas>=0.24 in /usr/local/lib/python3.10/dist-packages (from catboost) (2.0.3)\n",
            "Requirement already satisfied: scipy in /usr/local/lib/python3.10/dist-packages (from catboost) (1.11.4)\n",
            "Requirement already satisfied: plotly in /usr/local/lib/python3.10/dist-packages (from catboost) (5.15.0)\n",
            "Requirement already satisfied: six in /usr/local/lib/python3.10/dist-packages (from catboost) (1.16.0)\n",
            "Requirement already satisfied: python-dateutil>=2.8.2 in /usr/local/lib/python3.10/dist-packages (from pandas>=0.24->catboost) (2.8.2)\n",
            "Requirement already satisfied: pytz>=2020.1 in /usr/local/lib/python3.10/dist-packages (from pandas>=0.24->catboost) (2023.4)\n",
            "Requirement already satisfied: tzdata>=2022.1 in /usr/local/lib/python3.10/dist-packages (from pandas>=0.24->catboost) (2024.1)\n",
            "Requirement already satisfied: contourpy>=1.0.1 in /usr/local/lib/python3.10/dist-packages (from matplotlib->catboost) (1.2.1)\n",
            "Requirement already satisfied: cycler>=0.10 in /usr/local/lib/python3.10/dist-packages (from matplotlib->catboost) (0.12.1)\n",
            "Requirement already satisfied: fonttools>=4.22.0 in /usr/local/lib/python3.10/dist-packages (from matplotlib->catboost) (4.51.0)\n",
            "Requirement already satisfied: kiwisolver>=1.0.1 in /usr/local/lib/python3.10/dist-packages (from matplotlib->catboost) (1.4.5)\n",
            "Requirement already satisfied: packaging>=20.0 in /usr/local/lib/python3.10/dist-packages (from matplotlib->catboost) (24.0)\n",
            "Requirement already satisfied: pillow>=6.2.0 in /usr/local/lib/python3.10/dist-packages (from matplotlib->catboost) (9.4.0)\n",
            "Requirement already satisfied: pyparsing>=2.3.1 in /usr/local/lib/python3.10/dist-packages (from matplotlib->catboost) (3.1.2)\n",
            "Requirement already satisfied: tenacity>=6.2.0 in /usr/local/lib/python3.10/dist-packages (from plotly->catboost) (8.3.0)\n"
          ]
        }
      ]
    },
    {
      "cell_type": "markdown",
      "source": [
        "## Предварительная обработка данных"
      ],
      "metadata": {
        "id": "hxOu8B4qzdn5"
      }
    },
    {
      "cell_type": "markdown",
      "source": [
        "### Загрузка датасета"
      ],
      "metadata": {
        "id": "m5lkHbkTztsK"
      }
    },
    {
      "cell_type": "code",
      "source": [
        "# Dataframe initializing\n",
        "df = pd.read_csv(\"/content/drive/MyDrive/ВКР_External/movie_descriptions.csv\")\n",
        "df"
      ],
      "metadata": {
        "id": "d7FIwb_FDJBe",
        "colab": {
          "base_uri": "https://localhost:8080/",
          "height": 424
        },
        "outputId": "ea9fe3f3-33f9-4299-b288-b0f89a6b9bff"
      },
      "execution_count": null,
      "outputs": [
        {
          "output_type": "execute_result",
          "data": {
            "text/plain": [
              "            income                                               desc\n",
              "0        6500000.0  ...All the Marbles (reissued as The California...\n",
              "1         935000.0  20,000 Years in Sing Sing is a 1932 American P...\n",
              "2        5347122.0  ABBA: The Movie is a 1977 mocumentary about th...\n",
              "3      325000000.0  Disney's A Christmas Carol, or simply A Christ...\n",
              "4        3400000.0  A Funny Thing Happened on the Way to the Forum...\n",
              "...            ...                                                ...\n",
              "14502     511203.0  The Escape is a 2017 British drama film direct...\n",
              "14503        709.0  Les Estivants (transl. The Summer House) is a ...\n",
              "14504   12700000.0  Atlantic City (French: Atlantic City, USA) is ...\n",
              "14505   18000000.0  Dead Men Don't Wear Plaid is a 1982 American n...\n",
              "14506     557000.0  The Public Enemy (Enemies of the Public in the...\n",
              "\n",
              "[14507 rows x 2 columns]"
            ],
            "text/html": [
              "\n",
              "  <div id=\"df-19b89ae3-863e-4f72-91ee-3eba1d2277cc\" class=\"colab-df-container\">\n",
              "    <div>\n",
              "<style scoped>\n",
              "    .dataframe tbody tr th:only-of-type {\n",
              "        vertical-align: middle;\n",
              "    }\n",
              "\n",
              "    .dataframe tbody tr th {\n",
              "        vertical-align: top;\n",
              "    }\n",
              "\n",
              "    .dataframe thead th {\n",
              "        text-align: right;\n",
              "    }\n",
              "</style>\n",
              "<table border=\"1\" class=\"dataframe\">\n",
              "  <thead>\n",
              "    <tr style=\"text-align: right;\">\n",
              "      <th></th>\n",
              "      <th>income</th>\n",
              "      <th>desc</th>\n",
              "    </tr>\n",
              "  </thead>\n",
              "  <tbody>\n",
              "    <tr>\n",
              "      <th>0</th>\n",
              "      <td>6500000.0</td>\n",
              "      <td>...All the Marbles (reissued as The California...</td>\n",
              "    </tr>\n",
              "    <tr>\n",
              "      <th>1</th>\n",
              "      <td>935000.0</td>\n",
              "      <td>20,000 Years in Sing Sing is a 1932 American P...</td>\n",
              "    </tr>\n",
              "    <tr>\n",
              "      <th>2</th>\n",
              "      <td>5347122.0</td>\n",
              "      <td>ABBA: The Movie is a 1977 mocumentary about th...</td>\n",
              "    </tr>\n",
              "    <tr>\n",
              "      <th>3</th>\n",
              "      <td>325000000.0</td>\n",
              "      <td>Disney's A Christmas Carol, or simply A Christ...</td>\n",
              "    </tr>\n",
              "    <tr>\n",
              "      <th>4</th>\n",
              "      <td>3400000.0</td>\n",
              "      <td>A Funny Thing Happened on the Way to the Forum...</td>\n",
              "    </tr>\n",
              "    <tr>\n",
              "      <th>...</th>\n",
              "      <td>...</td>\n",
              "      <td>...</td>\n",
              "    </tr>\n",
              "    <tr>\n",
              "      <th>14502</th>\n",
              "      <td>511203.0</td>\n",
              "      <td>The Escape is a 2017 British drama film direct...</td>\n",
              "    </tr>\n",
              "    <tr>\n",
              "      <th>14503</th>\n",
              "      <td>709.0</td>\n",
              "      <td>Les Estivants (transl. The Summer House) is a ...</td>\n",
              "    </tr>\n",
              "    <tr>\n",
              "      <th>14504</th>\n",
              "      <td>12700000.0</td>\n",
              "      <td>Atlantic City (French: Atlantic City, USA) is ...</td>\n",
              "    </tr>\n",
              "    <tr>\n",
              "      <th>14505</th>\n",
              "      <td>18000000.0</td>\n",
              "      <td>Dead Men Don't Wear Plaid is a 1982 American n...</td>\n",
              "    </tr>\n",
              "    <tr>\n",
              "      <th>14506</th>\n",
              "      <td>557000.0</td>\n",
              "      <td>The Public Enemy (Enemies of the Public in the...</td>\n",
              "    </tr>\n",
              "  </tbody>\n",
              "</table>\n",
              "<p>14507 rows × 2 columns</p>\n",
              "</div>\n",
              "    <div class=\"colab-df-buttons\">\n",
              "\n",
              "  <div class=\"colab-df-container\">\n",
              "    <button class=\"colab-df-convert\" onclick=\"convertToInteractive('df-19b89ae3-863e-4f72-91ee-3eba1d2277cc')\"\n",
              "            title=\"Convert this dataframe to an interactive table.\"\n",
              "            style=\"display:none;\">\n",
              "\n",
              "  <svg xmlns=\"http://www.w3.org/2000/svg\" height=\"24px\" viewBox=\"0 -960 960 960\">\n",
              "    <path d=\"M120-120v-720h720v720H120Zm60-500h600v-160H180v160Zm220 220h160v-160H400v160Zm0 220h160v-160H400v160ZM180-400h160v-160H180v160Zm440 0h160v-160H620v160ZM180-180h160v-160H180v160Zm440 0h160v-160H620v160Z\"/>\n",
              "  </svg>\n",
              "    </button>\n",
              "\n",
              "  <style>\n",
              "    .colab-df-container {\n",
              "      display:flex;\n",
              "      gap: 12px;\n",
              "    }\n",
              "\n",
              "    .colab-df-convert {\n",
              "      background-color: #E8F0FE;\n",
              "      border: none;\n",
              "      border-radius: 50%;\n",
              "      cursor: pointer;\n",
              "      display: none;\n",
              "      fill: #1967D2;\n",
              "      height: 32px;\n",
              "      padding: 0 0 0 0;\n",
              "      width: 32px;\n",
              "    }\n",
              "\n",
              "    .colab-df-convert:hover {\n",
              "      background-color: #E2EBFA;\n",
              "      box-shadow: 0px 1px 2px rgba(60, 64, 67, 0.3), 0px 1px 3px 1px rgba(60, 64, 67, 0.15);\n",
              "      fill: #174EA6;\n",
              "    }\n",
              "\n",
              "    .colab-df-buttons div {\n",
              "      margin-bottom: 4px;\n",
              "    }\n",
              "\n",
              "    [theme=dark] .colab-df-convert {\n",
              "      background-color: #3B4455;\n",
              "      fill: #D2E3FC;\n",
              "    }\n",
              "\n",
              "    [theme=dark] .colab-df-convert:hover {\n",
              "      background-color: #434B5C;\n",
              "      box-shadow: 0px 1px 3px 1px rgba(0, 0, 0, 0.15);\n",
              "      filter: drop-shadow(0px 1px 2px rgba(0, 0, 0, 0.3));\n",
              "      fill: #FFFFFF;\n",
              "    }\n",
              "  </style>\n",
              "\n",
              "    <script>\n",
              "      const buttonEl =\n",
              "        document.querySelector('#df-19b89ae3-863e-4f72-91ee-3eba1d2277cc button.colab-df-convert');\n",
              "      buttonEl.style.display =\n",
              "        google.colab.kernel.accessAllowed ? 'block' : 'none';\n",
              "\n",
              "      async function convertToInteractive(key) {\n",
              "        const element = document.querySelector('#df-19b89ae3-863e-4f72-91ee-3eba1d2277cc');\n",
              "        const dataTable =\n",
              "          await google.colab.kernel.invokeFunction('convertToInteractive',\n",
              "                                                    [key], {});\n",
              "        if (!dataTable) return;\n",
              "\n",
              "        const docLinkHtml = 'Like what you see? Visit the ' +\n",
              "          '<a target=\"_blank\" href=https://colab.research.google.com/notebooks/data_table.ipynb>data table notebook</a>'\n",
              "          + ' to learn more about interactive tables.';\n",
              "        element.innerHTML = '';\n",
              "        dataTable['output_type'] = 'display_data';\n",
              "        await google.colab.output.renderOutput(dataTable, element);\n",
              "        const docLink = document.createElement('div');\n",
              "        docLink.innerHTML = docLinkHtml;\n",
              "        element.appendChild(docLink);\n",
              "      }\n",
              "    </script>\n",
              "  </div>\n",
              "\n",
              "\n",
              "<div id=\"df-e33eaf6c-1deb-45d9-a7b1-0e576c83e300\">\n",
              "  <button class=\"colab-df-quickchart\" onclick=\"quickchart('df-e33eaf6c-1deb-45d9-a7b1-0e576c83e300')\"\n",
              "            title=\"Suggest charts\"\n",
              "            style=\"display:none;\">\n",
              "\n",
              "<svg xmlns=\"http://www.w3.org/2000/svg\" height=\"24px\"viewBox=\"0 0 24 24\"\n",
              "     width=\"24px\">\n",
              "    <g>\n",
              "        <path d=\"M19 3H5c-1.1 0-2 .9-2 2v14c0 1.1.9 2 2 2h14c1.1 0 2-.9 2-2V5c0-1.1-.9-2-2-2zM9 17H7v-7h2v7zm4 0h-2V7h2v10zm4 0h-2v-4h2v4z\"/>\n",
              "    </g>\n",
              "</svg>\n",
              "  </button>\n",
              "\n",
              "<style>\n",
              "  .colab-df-quickchart {\n",
              "      --bg-color: #E8F0FE;\n",
              "      --fill-color: #1967D2;\n",
              "      --hover-bg-color: #E2EBFA;\n",
              "      --hover-fill-color: #174EA6;\n",
              "      --disabled-fill-color: #AAA;\n",
              "      --disabled-bg-color: #DDD;\n",
              "  }\n",
              "\n",
              "  [theme=dark] .colab-df-quickchart {\n",
              "      --bg-color: #3B4455;\n",
              "      --fill-color: #D2E3FC;\n",
              "      --hover-bg-color: #434B5C;\n",
              "      --hover-fill-color: #FFFFFF;\n",
              "      --disabled-bg-color: #3B4455;\n",
              "      --disabled-fill-color: #666;\n",
              "  }\n",
              "\n",
              "  .colab-df-quickchart {\n",
              "    background-color: var(--bg-color);\n",
              "    border: none;\n",
              "    border-radius: 50%;\n",
              "    cursor: pointer;\n",
              "    display: none;\n",
              "    fill: var(--fill-color);\n",
              "    height: 32px;\n",
              "    padding: 0;\n",
              "    width: 32px;\n",
              "  }\n",
              "\n",
              "  .colab-df-quickchart:hover {\n",
              "    background-color: var(--hover-bg-color);\n",
              "    box-shadow: 0 1px 2px rgba(60, 64, 67, 0.3), 0 1px 3px 1px rgba(60, 64, 67, 0.15);\n",
              "    fill: var(--button-hover-fill-color);\n",
              "  }\n",
              "\n",
              "  .colab-df-quickchart-complete:disabled,\n",
              "  .colab-df-quickchart-complete:disabled:hover {\n",
              "    background-color: var(--disabled-bg-color);\n",
              "    fill: var(--disabled-fill-color);\n",
              "    box-shadow: none;\n",
              "  }\n",
              "\n",
              "  .colab-df-spinner {\n",
              "    border: 2px solid var(--fill-color);\n",
              "    border-color: transparent;\n",
              "    border-bottom-color: var(--fill-color);\n",
              "    animation:\n",
              "      spin 1s steps(1) infinite;\n",
              "  }\n",
              "\n",
              "  @keyframes spin {\n",
              "    0% {\n",
              "      border-color: transparent;\n",
              "      border-bottom-color: var(--fill-color);\n",
              "      border-left-color: var(--fill-color);\n",
              "    }\n",
              "    20% {\n",
              "      border-color: transparent;\n",
              "      border-left-color: var(--fill-color);\n",
              "      border-top-color: var(--fill-color);\n",
              "    }\n",
              "    30% {\n",
              "      border-color: transparent;\n",
              "      border-left-color: var(--fill-color);\n",
              "      border-top-color: var(--fill-color);\n",
              "      border-right-color: var(--fill-color);\n",
              "    }\n",
              "    40% {\n",
              "      border-color: transparent;\n",
              "      border-right-color: var(--fill-color);\n",
              "      border-top-color: var(--fill-color);\n",
              "    }\n",
              "    60% {\n",
              "      border-color: transparent;\n",
              "      border-right-color: var(--fill-color);\n",
              "    }\n",
              "    80% {\n",
              "      border-color: transparent;\n",
              "      border-right-color: var(--fill-color);\n",
              "      border-bottom-color: var(--fill-color);\n",
              "    }\n",
              "    90% {\n",
              "      border-color: transparent;\n",
              "      border-bottom-color: var(--fill-color);\n",
              "    }\n",
              "  }\n",
              "</style>\n",
              "\n",
              "  <script>\n",
              "    async function quickchart(key) {\n",
              "      const quickchartButtonEl =\n",
              "        document.querySelector('#' + key + ' button');\n",
              "      quickchartButtonEl.disabled = true;  // To prevent multiple clicks.\n",
              "      quickchartButtonEl.classList.add('colab-df-spinner');\n",
              "      try {\n",
              "        const charts = await google.colab.kernel.invokeFunction(\n",
              "            'suggestCharts', [key], {});\n",
              "      } catch (error) {\n",
              "        console.error('Error during call to suggestCharts:', error);\n",
              "      }\n",
              "      quickchartButtonEl.classList.remove('colab-df-spinner');\n",
              "      quickchartButtonEl.classList.add('colab-df-quickchart-complete');\n",
              "    }\n",
              "    (() => {\n",
              "      let quickchartButtonEl =\n",
              "        document.querySelector('#df-e33eaf6c-1deb-45d9-a7b1-0e576c83e300 button');\n",
              "      quickchartButtonEl.style.display =\n",
              "        google.colab.kernel.accessAllowed ? 'block' : 'none';\n",
              "    })();\n",
              "  </script>\n",
              "</div>\n",
              "    </div>\n",
              "  </div>\n"
            ],
            "application/vnd.google.colaboratory.intrinsic+json": {
              "type": "dataframe",
              "variable_name": "df",
              "summary": "{\n  \"name\": \"df\",\n  \"rows\": 14507,\n  \"fields\": [\n    {\n      \"column\": \"income\",\n      \"properties\": {\n        \"dtype\": \"number\",\n        \"std\": 5534014171.243555,\n        \"min\": 0.03,\n        \"max\": 664000000000.0,\n        \"num_unique_values\": 7685,\n        \"samples\": [\n          1034000000.0,\n          17650.0,\n          1782005.0\n        ],\n        \"semantic_type\": \"\",\n        \"description\": \"\"\n      }\n    },\n    {\n      \"column\": \"desc\",\n      \"properties\": {\n        \"dtype\": \"string\",\n        \"num_unique_values\": 14507,\n        \"samples\": [\n          \"Star Trek IV: The Voyage Home is a 1986 American science fiction film directed by Leonard Nimoy and based on the television series Star Trek. It is the fourth feature installment in the Star Trek franchise, and is a sequel to Star Trek III: The Search for Spock (1984); it completes the story arc begun in Star Trek II: The Wrath of Khan (1982) and continued in The Search for Spock. Intent on returning home to Earth to face trial for their actions in the previous film, the former crew of the USS Enterprise finds the planet in grave danger from an alien probe attempting to contact now-extinct humpback whales. The crew travel to Earth's past to find whales who can answer the probe's call. After directing The Search for Spock, Nimoy was asked to direct the next feature, and given greater freedom regarding the film's content. Nimoy and producer Harve Bennett conceived a story with an environmental message and no clear-cut villain. Dissatisfied with the first screenplay produced by Steve Meerson and Peter Krikes, Paramount hired The Wrath of Khan writer and director Nicholas Meyer. Meyer and Bennett divided the story between them and wrote different parts of the script, requiring approval from Nimoy, lead actor William Shatner, and executives at Paramount Pictures. Principal photography commenced on February 24, 1986. Unlike previous Star Trek films, The Voyage Home was shot extensively on location; many real settings and buildings were used as stand-ins for scenes set around and in the city of San Francisco. Special effects firm Industrial Light & Magic assisted in post-production and the film's special effects. Few of the humpback whales in the film were real: ILM devised full-size animatronics and small motorized models to stand in for the real creatures. The film was dedicated to the crew of the Space Shuttle Challenger, which broke up 73 seconds after takeoff on the morning of January 28, 1986. The Voyage Home was released on November 26, 1986, in North America by Paramount Pictures, and became the top-grossing film at the weekend box office. The film's humor, acting, direction, special effects and unconventional story were well received by critics, fans of the series, and the general audience. It was financially successful, earning $133 million worldwide, and earned several awards and four Oscar nominations for cinematography and sound.\",\n          \"Duet for One is a 1986 British drama film adapted from the play, a two-hander by Tom Kempinski, about a world-famous concert violinist named Stephanie Anderson who is suddenly struck with multiple sclerosis. It is set in London, and directed by Andrei Konchalovsky. The story is based on the life of cellist Jacqueline du Pr\\u00e9, who was diagnosed with MS, and her husband, conductor Daniel Barenboim, and only marginally fictionalized.\",\n          \"The Public Eye is a 1992 American crime thriller film produced by Sue Baden-Powell and written and directed by Howard Franklin, starring Joe Pesci and Barbara Hershey. Stanley Tucci and Richard Schiff appear in supporting roles. The film is loosely based on New York Daily News photographer Arthur \\\"Weegee\\\" Fellig, and some of the photos in the film were taken by Fellig.\"\n        ],\n        \"semantic_type\": \"\",\n        \"description\": \"\"\n      }\n    }\n  ]\n}"
            }
          },
          "metadata": {},
          "execution_count": 22
        }
      ]
    },
    {
      "cell_type": "markdown",
      "source": [
        "### Токенизация - Векторизация"
      ],
      "metadata": {
        "id": "nzNtTndW2wed"
      }
    },
    {
      "cell_type": "code",
      "source": [
        "# Load pipeline as nlp\n",
        "nlp = spacy.load(\"en_core_web_md\")"
      ],
      "metadata": {
        "id": "5mkcBGf_0Wcp"
      },
      "execution_count": null,
      "outputs": []
    },
    {
      "cell_type": "code",
      "source": [
        "# Get stopwords\n",
        "stopwords = nlp.Defaults.stop_words"
      ],
      "metadata": {
        "id": "v8kzkmIX1ica"
      },
      "execution_count": null,
      "outputs": []
    },
    {
      "cell_type": "code",
      "source": [
        "# Make doc object\n",
        "def post_process(text):\n",
        "  doc = nlp(text)\n",
        "  tokens = [token.lower_ for token in doc if token.lower_ not in stopwords and token.lower_ not in string.punctuation]\n",
        "  doc = nlp(' '.join(tokens))\n",
        "  return doc"
      ],
      "metadata": {
        "id": "d8o0sclG1Uym"
      },
      "execution_count": null,
      "outputs": []
    },
    {
      "cell_type": "code",
      "source": [
        "# Apply doc to ea description in df\n",
        "df[\"desc\"] = df[\"desc\"].apply(post_process)"
      ],
      "metadata": {
        "id": "I4hzPt6L2cRA"
      },
      "execution_count": null,
      "outputs": []
    },
    {
      "cell_type": "code",
      "source": [
        "# Get vectors from doc to new df\n",
        "l_data = []\n",
        "df_append = pd.DataFrame(df[\"income\"]).copy(deep=True)\n",
        "for i in range(len(df.index)):\n",
        "  l_data.append(df[\"desc\"][i].vector)\n",
        "df_vectorized = pd.DataFrame(l_data)\n",
        "df_vectorized[\"income\"] = df.income"
      ],
      "metadata": {
        "id": "SEzFqyiyw49c"
      },
      "execution_count": null,
      "outputs": []
    },
    {
      "cell_type": "markdown",
      "source": [
        "### Сохранение датафрейма с векторами"
      ],
      "metadata": {
        "id": "Z8Tc0Cua03e0"
      }
    },
    {
      "cell_type": "code",
      "source": [
        "# Save df with vectors for future works\n",
        "df_vectorized.to_csv(\"/content/drive/MyDrive/ВКР_External/movie_descriptions_vectorized.csv\")"
      ],
      "metadata": {
        "id": "fPH1SH73kdxA"
      },
      "execution_count": null,
      "outputs": []
    },
    {
      "cell_type": "markdown",
      "source": [
        "## Обучение моделей"
      ],
      "metadata": {
        "id": "WeXnsem51z1H"
      }
    },
    {
      "cell_type": "markdown",
      "source": [
        "### Определение параметров"
      ],
      "metadata": {
        "id": "BkVgKj-x1aDQ"
      }
    },
    {
      "cell_type": "code",
      "source": [
        "# Use df from previosly saved one\n",
        "df_vectorized = pd.read_csv(\"/content/drive/MyDrive/ВКР_External/movie_descriptions_vectorized.csv\")\n",
        "df_vectorized"
      ],
      "metadata": {
        "id": "6Zegltbo1ShK",
        "colab": {
          "base_uri": "https://localhost:8080/",
          "height": 461
        },
        "outputId": "e8b3ef35-fb17-4ec4-f9ae-16d165284dab"
      },
      "execution_count": null,
      "outputs": [
        {
          "output_type": "execute_result",
          "data": {
            "text/plain": [
              "       Unnamed: 0         0         1         2         3         4         5  \\\n",
              "0               0 -1.298904 -0.242598 -0.857874 -1.144227  1.556783 -0.455883   \n",
              "1               1 -1.377147 -0.644655 -0.835660 -1.034678  1.139087 -0.930904   \n",
              "2               2 -1.474902  0.256130 -0.032380 -2.101310  1.251606 -0.733639   \n",
              "3               3 -1.813950 -1.318756 -1.056335 -0.824261  1.489859 -1.098742   \n",
              "4               4 -1.299850 -0.333140 -0.700350 -1.439572  1.237609 -0.140933   \n",
              "...           ...       ...       ...       ...       ...       ...       ...   \n",
              "14502       14502 -1.119032 -0.777263 -1.233040 -1.777215  2.430745 -0.838345   \n",
              "14503       14503 -1.745673 -0.736937 -0.336830 -1.390641  1.382258 -0.731608   \n",
              "14504       14504 -1.639807 -1.232043 -1.241632 -0.908423  2.740597 -0.266506   \n",
              "14505       14505 -2.142270 -0.589301 -1.090148 -1.347771  0.955679 -0.869408   \n",
              "14506       14506 -1.730015 -0.948460 -0.934680 -0.240999  2.537657 -0.494122   \n",
              "\n",
              "              6         7         8  ...       291       292       293  \\\n",
              "0      1.524870  1.198163 -0.026661  ... -1.085548  0.336589  0.530162   \n",
              "1      2.020840  2.214315  0.370975  ...  0.012549 -0.474700 -0.034009   \n",
              "2      1.310911  0.529010 -0.652214  ... -1.824025 -0.453622  1.056749   \n",
              "3      1.715052  1.391204  0.061601  ... -0.919328  0.270585 -0.014532   \n",
              "4      1.843368  1.420386 -0.599807  ... -1.329193  0.118996  0.065049   \n",
              "...         ...       ...       ...  ...       ...       ...       ...   \n",
              "14502  3.168251  1.763835  0.348106  ... -1.450528 -0.389068 -0.085819   \n",
              "14503  2.456317  1.139176  1.021985  ... -2.227930  1.305248 -0.309047   \n",
              "14504  1.996614  1.859926  0.396290  ... -0.890346 -0.131324  0.841622   \n",
              "14505  2.019832  2.197597 -0.266868  ... -1.126979  0.995757  0.005921   \n",
              "14506  1.850596  1.960889 -0.545919  ... -0.866183  0.286395 -0.319638   \n",
              "\n",
              "            294       295       296       297       298       299       income  \n",
              "0     -1.362267 -0.363953  1.943759 -0.764230 -1.157135  0.269557    6500000.0  \n",
              "1     -1.644470 -0.349423  1.850026 -1.151727 -1.730281  0.514668     935000.0  \n",
              "2     -1.000937  0.281683  1.457397 -0.048272 -2.931675  0.133844    5347122.0  \n",
              "3     -1.217414  0.094761  1.942663 -0.749508 -1.774292  0.583732  325000000.0  \n",
              "4     -1.205569 -0.639141  1.432785 -0.242925 -1.840069  0.795358    3400000.0  \n",
              "...         ...       ...       ...       ...       ...       ...          ...  \n",
              "14502 -1.456573 -0.346806  1.907644 -1.337442 -2.240242  0.385006     511203.0  \n",
              "14503 -1.259585 -0.059573  2.539666 -0.615935 -1.048922  0.306281        709.0  \n",
              "14504 -2.034261 -0.130795  1.601602 -1.005677 -1.472516  0.571674   12700000.0  \n",
              "14505 -1.744134 -0.063089  1.972861  0.180275 -1.270415  0.113823   18000000.0  \n",
              "14506 -1.783734 -0.265705  1.130200 -0.552149 -1.154148  0.245549     557000.0  \n",
              "\n",
              "[14507 rows x 302 columns]"
            ],
            "text/html": [
              "\n",
              "  <div id=\"df-43baff90-ca38-4695-82c3-ae803455995f\" class=\"colab-df-container\">\n",
              "    <div>\n",
              "<style scoped>\n",
              "    .dataframe tbody tr th:only-of-type {\n",
              "        vertical-align: middle;\n",
              "    }\n",
              "\n",
              "    .dataframe tbody tr th {\n",
              "        vertical-align: top;\n",
              "    }\n",
              "\n",
              "    .dataframe thead th {\n",
              "        text-align: right;\n",
              "    }\n",
              "</style>\n",
              "<table border=\"1\" class=\"dataframe\">\n",
              "  <thead>\n",
              "    <tr style=\"text-align: right;\">\n",
              "      <th></th>\n",
              "      <th>Unnamed: 0</th>\n",
              "      <th>0</th>\n",
              "      <th>1</th>\n",
              "      <th>2</th>\n",
              "      <th>3</th>\n",
              "      <th>4</th>\n",
              "      <th>5</th>\n",
              "      <th>6</th>\n",
              "      <th>7</th>\n",
              "      <th>8</th>\n",
              "      <th>...</th>\n",
              "      <th>291</th>\n",
              "      <th>292</th>\n",
              "      <th>293</th>\n",
              "      <th>294</th>\n",
              "      <th>295</th>\n",
              "      <th>296</th>\n",
              "      <th>297</th>\n",
              "      <th>298</th>\n",
              "      <th>299</th>\n",
              "      <th>income</th>\n",
              "    </tr>\n",
              "  </thead>\n",
              "  <tbody>\n",
              "    <tr>\n",
              "      <th>0</th>\n",
              "      <td>0</td>\n",
              "      <td>-1.298904</td>\n",
              "      <td>-0.242598</td>\n",
              "      <td>-0.857874</td>\n",
              "      <td>-1.144227</td>\n",
              "      <td>1.556783</td>\n",
              "      <td>-0.455883</td>\n",
              "      <td>1.524870</td>\n",
              "      <td>1.198163</td>\n",
              "      <td>-0.026661</td>\n",
              "      <td>...</td>\n",
              "      <td>-1.085548</td>\n",
              "      <td>0.336589</td>\n",
              "      <td>0.530162</td>\n",
              "      <td>-1.362267</td>\n",
              "      <td>-0.363953</td>\n",
              "      <td>1.943759</td>\n",
              "      <td>-0.764230</td>\n",
              "      <td>-1.157135</td>\n",
              "      <td>0.269557</td>\n",
              "      <td>6500000.0</td>\n",
              "    </tr>\n",
              "    <tr>\n",
              "      <th>1</th>\n",
              "      <td>1</td>\n",
              "      <td>-1.377147</td>\n",
              "      <td>-0.644655</td>\n",
              "      <td>-0.835660</td>\n",
              "      <td>-1.034678</td>\n",
              "      <td>1.139087</td>\n",
              "      <td>-0.930904</td>\n",
              "      <td>2.020840</td>\n",
              "      <td>2.214315</td>\n",
              "      <td>0.370975</td>\n",
              "      <td>...</td>\n",
              "      <td>0.012549</td>\n",
              "      <td>-0.474700</td>\n",
              "      <td>-0.034009</td>\n",
              "      <td>-1.644470</td>\n",
              "      <td>-0.349423</td>\n",
              "      <td>1.850026</td>\n",
              "      <td>-1.151727</td>\n",
              "      <td>-1.730281</td>\n",
              "      <td>0.514668</td>\n",
              "      <td>935000.0</td>\n",
              "    </tr>\n",
              "    <tr>\n",
              "      <th>2</th>\n",
              "      <td>2</td>\n",
              "      <td>-1.474902</td>\n",
              "      <td>0.256130</td>\n",
              "      <td>-0.032380</td>\n",
              "      <td>-2.101310</td>\n",
              "      <td>1.251606</td>\n",
              "      <td>-0.733639</td>\n",
              "      <td>1.310911</td>\n",
              "      <td>0.529010</td>\n",
              "      <td>-0.652214</td>\n",
              "      <td>...</td>\n",
              "      <td>-1.824025</td>\n",
              "      <td>-0.453622</td>\n",
              "      <td>1.056749</td>\n",
              "      <td>-1.000937</td>\n",
              "      <td>0.281683</td>\n",
              "      <td>1.457397</td>\n",
              "      <td>-0.048272</td>\n",
              "      <td>-2.931675</td>\n",
              "      <td>0.133844</td>\n",
              "      <td>5347122.0</td>\n",
              "    </tr>\n",
              "    <tr>\n",
              "      <th>3</th>\n",
              "      <td>3</td>\n",
              "      <td>-1.813950</td>\n",
              "      <td>-1.318756</td>\n",
              "      <td>-1.056335</td>\n",
              "      <td>-0.824261</td>\n",
              "      <td>1.489859</td>\n",
              "      <td>-1.098742</td>\n",
              "      <td>1.715052</td>\n",
              "      <td>1.391204</td>\n",
              "      <td>0.061601</td>\n",
              "      <td>...</td>\n",
              "      <td>-0.919328</td>\n",
              "      <td>0.270585</td>\n",
              "      <td>-0.014532</td>\n",
              "      <td>-1.217414</td>\n",
              "      <td>0.094761</td>\n",
              "      <td>1.942663</td>\n",
              "      <td>-0.749508</td>\n",
              "      <td>-1.774292</td>\n",
              "      <td>0.583732</td>\n",
              "      <td>325000000.0</td>\n",
              "    </tr>\n",
              "    <tr>\n",
              "      <th>4</th>\n",
              "      <td>4</td>\n",
              "      <td>-1.299850</td>\n",
              "      <td>-0.333140</td>\n",
              "      <td>-0.700350</td>\n",
              "      <td>-1.439572</td>\n",
              "      <td>1.237609</td>\n",
              "      <td>-0.140933</td>\n",
              "      <td>1.843368</td>\n",
              "      <td>1.420386</td>\n",
              "      <td>-0.599807</td>\n",
              "      <td>...</td>\n",
              "      <td>-1.329193</td>\n",
              "      <td>0.118996</td>\n",
              "      <td>0.065049</td>\n",
              "      <td>-1.205569</td>\n",
              "      <td>-0.639141</td>\n",
              "      <td>1.432785</td>\n",
              "      <td>-0.242925</td>\n",
              "      <td>-1.840069</td>\n",
              "      <td>0.795358</td>\n",
              "      <td>3400000.0</td>\n",
              "    </tr>\n",
              "    <tr>\n",
              "      <th>...</th>\n",
              "      <td>...</td>\n",
              "      <td>...</td>\n",
              "      <td>...</td>\n",
              "      <td>...</td>\n",
              "      <td>...</td>\n",
              "      <td>...</td>\n",
              "      <td>...</td>\n",
              "      <td>...</td>\n",
              "      <td>...</td>\n",
              "      <td>...</td>\n",
              "      <td>...</td>\n",
              "      <td>...</td>\n",
              "      <td>...</td>\n",
              "      <td>...</td>\n",
              "      <td>...</td>\n",
              "      <td>...</td>\n",
              "      <td>...</td>\n",
              "      <td>...</td>\n",
              "      <td>...</td>\n",
              "      <td>...</td>\n",
              "      <td>...</td>\n",
              "    </tr>\n",
              "    <tr>\n",
              "      <th>14502</th>\n",
              "      <td>14502</td>\n",
              "      <td>-1.119032</td>\n",
              "      <td>-0.777263</td>\n",
              "      <td>-1.233040</td>\n",
              "      <td>-1.777215</td>\n",
              "      <td>2.430745</td>\n",
              "      <td>-0.838345</td>\n",
              "      <td>3.168251</td>\n",
              "      <td>1.763835</td>\n",
              "      <td>0.348106</td>\n",
              "      <td>...</td>\n",
              "      <td>-1.450528</td>\n",
              "      <td>-0.389068</td>\n",
              "      <td>-0.085819</td>\n",
              "      <td>-1.456573</td>\n",
              "      <td>-0.346806</td>\n",
              "      <td>1.907644</td>\n",
              "      <td>-1.337442</td>\n",
              "      <td>-2.240242</td>\n",
              "      <td>0.385006</td>\n",
              "      <td>511203.0</td>\n",
              "    </tr>\n",
              "    <tr>\n",
              "      <th>14503</th>\n",
              "      <td>14503</td>\n",
              "      <td>-1.745673</td>\n",
              "      <td>-0.736937</td>\n",
              "      <td>-0.336830</td>\n",
              "      <td>-1.390641</td>\n",
              "      <td>1.382258</td>\n",
              "      <td>-0.731608</td>\n",
              "      <td>2.456317</td>\n",
              "      <td>1.139176</td>\n",
              "      <td>1.021985</td>\n",
              "      <td>...</td>\n",
              "      <td>-2.227930</td>\n",
              "      <td>1.305248</td>\n",
              "      <td>-0.309047</td>\n",
              "      <td>-1.259585</td>\n",
              "      <td>-0.059573</td>\n",
              "      <td>2.539666</td>\n",
              "      <td>-0.615935</td>\n",
              "      <td>-1.048922</td>\n",
              "      <td>0.306281</td>\n",
              "      <td>709.0</td>\n",
              "    </tr>\n",
              "    <tr>\n",
              "      <th>14504</th>\n",
              "      <td>14504</td>\n",
              "      <td>-1.639807</td>\n",
              "      <td>-1.232043</td>\n",
              "      <td>-1.241632</td>\n",
              "      <td>-0.908423</td>\n",
              "      <td>2.740597</td>\n",
              "      <td>-0.266506</td>\n",
              "      <td>1.996614</td>\n",
              "      <td>1.859926</td>\n",
              "      <td>0.396290</td>\n",
              "      <td>...</td>\n",
              "      <td>-0.890346</td>\n",
              "      <td>-0.131324</td>\n",
              "      <td>0.841622</td>\n",
              "      <td>-2.034261</td>\n",
              "      <td>-0.130795</td>\n",
              "      <td>1.601602</td>\n",
              "      <td>-1.005677</td>\n",
              "      <td>-1.472516</td>\n",
              "      <td>0.571674</td>\n",
              "      <td>12700000.0</td>\n",
              "    </tr>\n",
              "    <tr>\n",
              "      <th>14505</th>\n",
              "      <td>14505</td>\n",
              "      <td>-2.142270</td>\n",
              "      <td>-0.589301</td>\n",
              "      <td>-1.090148</td>\n",
              "      <td>-1.347771</td>\n",
              "      <td>0.955679</td>\n",
              "      <td>-0.869408</td>\n",
              "      <td>2.019832</td>\n",
              "      <td>2.197597</td>\n",
              "      <td>-0.266868</td>\n",
              "      <td>...</td>\n",
              "      <td>-1.126979</td>\n",
              "      <td>0.995757</td>\n",
              "      <td>0.005921</td>\n",
              "      <td>-1.744134</td>\n",
              "      <td>-0.063089</td>\n",
              "      <td>1.972861</td>\n",
              "      <td>0.180275</td>\n",
              "      <td>-1.270415</td>\n",
              "      <td>0.113823</td>\n",
              "      <td>18000000.0</td>\n",
              "    </tr>\n",
              "    <tr>\n",
              "      <th>14506</th>\n",
              "      <td>14506</td>\n",
              "      <td>-1.730015</td>\n",
              "      <td>-0.948460</td>\n",
              "      <td>-0.934680</td>\n",
              "      <td>-0.240999</td>\n",
              "      <td>2.537657</td>\n",
              "      <td>-0.494122</td>\n",
              "      <td>1.850596</td>\n",
              "      <td>1.960889</td>\n",
              "      <td>-0.545919</td>\n",
              "      <td>...</td>\n",
              "      <td>-0.866183</td>\n",
              "      <td>0.286395</td>\n",
              "      <td>-0.319638</td>\n",
              "      <td>-1.783734</td>\n",
              "      <td>-0.265705</td>\n",
              "      <td>1.130200</td>\n",
              "      <td>-0.552149</td>\n",
              "      <td>-1.154148</td>\n",
              "      <td>0.245549</td>\n",
              "      <td>557000.0</td>\n",
              "    </tr>\n",
              "  </tbody>\n",
              "</table>\n",
              "<p>14507 rows × 302 columns</p>\n",
              "</div>\n",
              "    <div class=\"colab-df-buttons\">\n",
              "\n",
              "  <div class=\"colab-df-container\">\n",
              "    <button class=\"colab-df-convert\" onclick=\"convertToInteractive('df-43baff90-ca38-4695-82c3-ae803455995f')\"\n",
              "            title=\"Convert this dataframe to an interactive table.\"\n",
              "            style=\"display:none;\">\n",
              "\n",
              "  <svg xmlns=\"http://www.w3.org/2000/svg\" height=\"24px\" viewBox=\"0 -960 960 960\">\n",
              "    <path d=\"M120-120v-720h720v720H120Zm60-500h600v-160H180v160Zm220 220h160v-160H400v160Zm0 220h160v-160H400v160ZM180-400h160v-160H180v160Zm440 0h160v-160H620v160ZM180-180h160v-160H180v160Zm440 0h160v-160H620v160Z\"/>\n",
              "  </svg>\n",
              "    </button>\n",
              "\n",
              "  <style>\n",
              "    .colab-df-container {\n",
              "      display:flex;\n",
              "      gap: 12px;\n",
              "    }\n",
              "\n",
              "    .colab-df-convert {\n",
              "      background-color: #E8F0FE;\n",
              "      border: none;\n",
              "      border-radius: 50%;\n",
              "      cursor: pointer;\n",
              "      display: none;\n",
              "      fill: #1967D2;\n",
              "      height: 32px;\n",
              "      padding: 0 0 0 0;\n",
              "      width: 32px;\n",
              "    }\n",
              "\n",
              "    .colab-df-convert:hover {\n",
              "      background-color: #E2EBFA;\n",
              "      box-shadow: 0px 1px 2px rgba(60, 64, 67, 0.3), 0px 1px 3px 1px rgba(60, 64, 67, 0.15);\n",
              "      fill: #174EA6;\n",
              "    }\n",
              "\n",
              "    .colab-df-buttons div {\n",
              "      margin-bottom: 4px;\n",
              "    }\n",
              "\n",
              "    [theme=dark] .colab-df-convert {\n",
              "      background-color: #3B4455;\n",
              "      fill: #D2E3FC;\n",
              "    }\n",
              "\n",
              "    [theme=dark] .colab-df-convert:hover {\n",
              "      background-color: #434B5C;\n",
              "      box-shadow: 0px 1px 3px 1px rgba(0, 0, 0, 0.15);\n",
              "      filter: drop-shadow(0px 1px 2px rgba(0, 0, 0, 0.3));\n",
              "      fill: #FFFFFF;\n",
              "    }\n",
              "  </style>\n",
              "\n",
              "    <script>\n",
              "      const buttonEl =\n",
              "        document.querySelector('#df-43baff90-ca38-4695-82c3-ae803455995f button.colab-df-convert');\n",
              "      buttonEl.style.display =\n",
              "        google.colab.kernel.accessAllowed ? 'block' : 'none';\n",
              "\n",
              "      async function convertToInteractive(key) {\n",
              "        const element = document.querySelector('#df-43baff90-ca38-4695-82c3-ae803455995f');\n",
              "        const dataTable =\n",
              "          await google.colab.kernel.invokeFunction('convertToInteractive',\n",
              "                                                    [key], {});\n",
              "        if (!dataTable) return;\n",
              "\n",
              "        const docLinkHtml = 'Like what you see? Visit the ' +\n",
              "          '<a target=\"_blank\" href=https://colab.research.google.com/notebooks/data_table.ipynb>data table notebook</a>'\n",
              "          + ' to learn more about interactive tables.';\n",
              "        element.innerHTML = '';\n",
              "        dataTable['output_type'] = 'display_data';\n",
              "        await google.colab.output.renderOutput(dataTable, element);\n",
              "        const docLink = document.createElement('div');\n",
              "        docLink.innerHTML = docLinkHtml;\n",
              "        element.appendChild(docLink);\n",
              "      }\n",
              "    </script>\n",
              "  </div>\n",
              "\n",
              "\n",
              "<div id=\"df-28d8397b-854c-4fef-beee-f4e45f2bd5ac\">\n",
              "  <button class=\"colab-df-quickchart\" onclick=\"quickchart('df-28d8397b-854c-4fef-beee-f4e45f2bd5ac')\"\n",
              "            title=\"Suggest charts\"\n",
              "            style=\"display:none;\">\n",
              "\n",
              "<svg xmlns=\"http://www.w3.org/2000/svg\" height=\"24px\"viewBox=\"0 0 24 24\"\n",
              "     width=\"24px\">\n",
              "    <g>\n",
              "        <path d=\"M19 3H5c-1.1 0-2 .9-2 2v14c0 1.1.9 2 2 2h14c1.1 0 2-.9 2-2V5c0-1.1-.9-2-2-2zM9 17H7v-7h2v7zm4 0h-2V7h2v10zm4 0h-2v-4h2v4z\"/>\n",
              "    </g>\n",
              "</svg>\n",
              "  </button>\n",
              "\n",
              "<style>\n",
              "  .colab-df-quickchart {\n",
              "      --bg-color: #E8F0FE;\n",
              "      --fill-color: #1967D2;\n",
              "      --hover-bg-color: #E2EBFA;\n",
              "      --hover-fill-color: #174EA6;\n",
              "      --disabled-fill-color: #AAA;\n",
              "      --disabled-bg-color: #DDD;\n",
              "  }\n",
              "\n",
              "  [theme=dark] .colab-df-quickchart {\n",
              "      --bg-color: #3B4455;\n",
              "      --fill-color: #D2E3FC;\n",
              "      --hover-bg-color: #434B5C;\n",
              "      --hover-fill-color: #FFFFFF;\n",
              "      --disabled-bg-color: #3B4455;\n",
              "      --disabled-fill-color: #666;\n",
              "  }\n",
              "\n",
              "  .colab-df-quickchart {\n",
              "    background-color: var(--bg-color);\n",
              "    border: none;\n",
              "    border-radius: 50%;\n",
              "    cursor: pointer;\n",
              "    display: none;\n",
              "    fill: var(--fill-color);\n",
              "    height: 32px;\n",
              "    padding: 0;\n",
              "    width: 32px;\n",
              "  }\n",
              "\n",
              "  .colab-df-quickchart:hover {\n",
              "    background-color: var(--hover-bg-color);\n",
              "    box-shadow: 0 1px 2px rgba(60, 64, 67, 0.3), 0 1px 3px 1px rgba(60, 64, 67, 0.15);\n",
              "    fill: var(--button-hover-fill-color);\n",
              "  }\n",
              "\n",
              "  .colab-df-quickchart-complete:disabled,\n",
              "  .colab-df-quickchart-complete:disabled:hover {\n",
              "    background-color: var(--disabled-bg-color);\n",
              "    fill: var(--disabled-fill-color);\n",
              "    box-shadow: none;\n",
              "  }\n",
              "\n",
              "  .colab-df-spinner {\n",
              "    border: 2px solid var(--fill-color);\n",
              "    border-color: transparent;\n",
              "    border-bottom-color: var(--fill-color);\n",
              "    animation:\n",
              "      spin 1s steps(1) infinite;\n",
              "  }\n",
              "\n",
              "  @keyframes spin {\n",
              "    0% {\n",
              "      border-color: transparent;\n",
              "      border-bottom-color: var(--fill-color);\n",
              "      border-left-color: var(--fill-color);\n",
              "    }\n",
              "    20% {\n",
              "      border-color: transparent;\n",
              "      border-left-color: var(--fill-color);\n",
              "      border-top-color: var(--fill-color);\n",
              "    }\n",
              "    30% {\n",
              "      border-color: transparent;\n",
              "      border-left-color: var(--fill-color);\n",
              "      border-top-color: var(--fill-color);\n",
              "      border-right-color: var(--fill-color);\n",
              "    }\n",
              "    40% {\n",
              "      border-color: transparent;\n",
              "      border-right-color: var(--fill-color);\n",
              "      border-top-color: var(--fill-color);\n",
              "    }\n",
              "    60% {\n",
              "      border-color: transparent;\n",
              "      border-right-color: var(--fill-color);\n",
              "    }\n",
              "    80% {\n",
              "      border-color: transparent;\n",
              "      border-right-color: var(--fill-color);\n",
              "      border-bottom-color: var(--fill-color);\n",
              "    }\n",
              "    90% {\n",
              "      border-color: transparent;\n",
              "      border-bottom-color: var(--fill-color);\n",
              "    }\n",
              "  }\n",
              "</style>\n",
              "\n",
              "  <script>\n",
              "    async function quickchart(key) {\n",
              "      const quickchartButtonEl =\n",
              "        document.querySelector('#' + key + ' button');\n",
              "      quickchartButtonEl.disabled = true;  // To prevent multiple clicks.\n",
              "      quickchartButtonEl.classList.add('colab-df-spinner');\n",
              "      try {\n",
              "        const charts = await google.colab.kernel.invokeFunction(\n",
              "            'suggestCharts', [key], {});\n",
              "      } catch (error) {\n",
              "        console.error('Error during call to suggestCharts:', error);\n",
              "      }\n",
              "      quickchartButtonEl.classList.remove('colab-df-spinner');\n",
              "      quickchartButtonEl.classList.add('colab-df-quickchart-complete');\n",
              "    }\n",
              "    (() => {\n",
              "      let quickchartButtonEl =\n",
              "        document.querySelector('#df-28d8397b-854c-4fef-beee-f4e45f2bd5ac button');\n",
              "      quickchartButtonEl.style.display =\n",
              "        google.colab.kernel.accessAllowed ? 'block' : 'none';\n",
              "    })();\n",
              "  </script>\n",
              "</div>\n",
              "    </div>\n",
              "  </div>\n"
            ],
            "application/vnd.google.colaboratory.intrinsic+json": {
              "type": "dataframe",
              "variable_name": "df_vectorized"
            }
          },
          "metadata": {},
          "execution_count": 10
        }
      ]
    },
    {
      "cell_type": "code",
      "source": [
        "# Define params from df\n",
        "y = df_vectorized[\"income\"]\n",
        "X = df_vectorized.drop(columns = [\"income\", \"Unnamed: 0\"])"
      ],
      "metadata": {
        "id": "cY1cerJQHl9j"
      },
      "execution_count": null,
      "outputs": []
    },
    {
      "cell_type": "code",
      "source": [
        "# Divide samples by train and test\n",
        "X_train, X_test, y_train, y_test = train_test_split(X, y, test_size=0.3, random_state=42)"
      ],
      "metadata": {
        "id": "7kYidzjgo0_U"
      },
      "execution_count": null,
      "outputs": []
    },
    {
      "cell_type": "markdown",
      "source": [
        "### Понижение размерности"
      ],
      "metadata": {
        "id": "inTHV2puhvNW"
      }
    },
    {
      "cell_type": "markdown",
      "source": [
        "Проверим, стоит ли использовать понижение размерности на наших данных"
      ],
      "metadata": {
        "id": "XubRHPNTzdex"
      }
    },
    {
      "cell_type": "code",
      "source": [
        "# Split Data\n",
        "X_train, X_test, y_train, y_test = train_test_split(X, y, test_size=0.3, random_state=42)\n",
        "\n",
        "# Feature Scaling\n",
        "scaler = StandardScaler()\n",
        "X_train_scaled = scaler.fit_transform(X_train)\n",
        "X_test_scaled = scaler.transform(X_test)\n",
        "\n",
        "# Baseline Model (without PCA)\n",
        "baseline_model = LinearRegression()\n",
        "baseline_model.fit(X_train_scaled, y_train)\n",
        "\n",
        "# PCA Experiment\n",
        "pca = PCA(n_components=0.95)\n",
        "pca.fit(X_train_scaled)\n",
        "\n",
        "X_train_pca = pca.transform(X_train_scaled)\n",
        "X_test_pca = pca.transform(X_test_scaled)\n",
        "\n",
        "pca_model = LinearRegression()\n",
        "pca_model.fit(X_train_pca, y_train)\n",
        "\n",
        "\n",
        "# Evaluation\n",
        "print(f\"Baseline MAE: {mean_absolute_error(y_test, baseline_model.predict(X_test_scaled))}\")\n",
        "print(f\"PCA MAE: {mean_absolute_error(y_test, pca_model.predict(X_test_pca))}\")\n",
        "print(f\"Baseline MSQ: {mean_squared_error(y_test, baseline_model.predict(X_test_scaled))}\")\n",
        "print(f\"PCA MSQ: {mean_squared_error(y_test, pca_model.predict(X_test_pca))}\")\n",
        "print(f\"Baseline r2_score: {r2_score(y_test, baseline_model.predict(X_test_scaled))}\")\n",
        "print(f\"PCA r2_score: {r2_score(y_test, pca_model.predict(X_test_pca))}\")"
      ],
      "metadata": {
        "colab": {
          "base_uri": "https://localhost:8080/"
        },
        "id": "j5QaDvvIlZXe",
        "outputId": "ae85fdc3-6f01-4e18-80ce-711a535fc80b"
      },
      "execution_count": null,
      "outputs": [
        {
          "output_type": "stream",
          "name": "stdout",
          "text": [
            "Baseline MAE: 131938991.96566764\n",
            "PCA MAE: 118834587.4937029\n",
            "Baseline MSQ: 1.0411709418017906e+17\n",
            "PCA MSQ: 1.0083170115073768e+17\n",
            "Baseline r2_score: 0.01195723439517482\n",
            "PCA r2_score: 0.04313471625315424\n"
          ]
        }
      ]
    },
    {
      "cell_type": "markdown",
      "source": [
        "Понижение размернности улучшило наши метрики на примерно 10%"
      ],
      "metadata": {
        "id": "9wDDkV0uzi9y"
      }
    },
    {
      "cell_type": "code",
      "source": [
        "# Use pca split data instead of regular\n",
        "X_train = X_train_pca\n",
        "X_test = X_test_pca"
      ],
      "metadata": {
        "id": "ohUuVGj5ziBa"
      },
      "execution_count": null,
      "outputs": []
    },
    {
      "cell_type": "markdown",
      "source": [
        "На основе метрик, можно сделать вывод, что в понижении размерности большого смысла для текущих данных нет."
      ],
      "metadata": {
        "id": "ktuUs7IEm6f8"
      }
    },
    {
      "cell_type": "markdown",
      "source": [
        "### Выбор гипер параметров для моделей"
      ],
      "metadata": {
        "id": "KY2EJNw7T3Ij"
      }
    },
    {
      "cell_type": "markdown",
      "source": [
        "Список существующих(в работе) моделей и отдельно гиперпараметры, которые будут проверятся."
      ],
      "metadata": {
        "id": "jYaX3IXoT8kW"
      }
    },
    {
      "cell_type": "code",
      "source": [
        "# Define all models\n",
        "models = {\n",
        "    'LinearRegression': LinearRegression(),\n",
        "    'Ridge': Ridge(),\n",
        "    'Lasso': Lasso(),\n",
        "    'ElasticNet': ElasticNet(),\n",
        "    'MLPRegressor': MLPRegressor(),\n",
        "    'SVR': SVR(),\n",
        "    'CatBoostRegressor': CatBoostRegressor()\n",
        "}"
      ],
      "metadata": {
        "id": "NHw4SHRhUF7n"
      },
      "execution_count": null,
      "outputs": []
    },
    {
      "cell_type": "code",
      "source": [
        "# Grid with vary amount of hyperparams\n",
        "param_grid = {\n",
        "    'LinearRegression': {\n",
        "        'fit_intercept': [True, False],\n",
        "        'copy_X': [True, False],\n",
        "        'n_jobs': [-1]\n",
        "    },\n",
        "    'Ridge': {\n",
        "        'alpha': [0.01, 0.1, 1, 10],\n",
        "        'max_iter': [100, 500, 1000, 2500, 5000],\n",
        "        'tol': [1e-3, 1e-4, 1e-5]\n",
        "    },\n",
        "    'Lasso': {\n",
        "        'alpha': [0.001, 0.01, 0.1, 1],\n",
        "        'max_iter': [1000, 2500, 5000],\n",
        "        'tol': [1e-5],\n",
        "        'selection': ['random']\n",
        "    },\n",
        "    'MLPRegressor': {\n",
        "        'activation': ['relu'],\n",
        "        'max_iter': [200, 500, 1000]\n",
        "    },\n",
        "    'SVR': {\n",
        "        'kernel': ['linear', 'poly', 'rbf', 'sigmoid'],\n",
        "        'C': [0.1, 1, 10, 100],\n",
        "        'epsilon': [0.01, 0.1, 0.5],\n",
        "        'gamma': ['scale', 'auto'],\n",
        "        'tol': [1e-3, 1e-4, 1e-5]\n",
        "    },\n",
        "    'CatBoostRegressor': {\n",
        "        'iterations': [50, 100, 200],\n",
        "        'learning_rate': [0.01, 0.05, 0.1],\n",
        "        'depth': [4, 6, 8],\n",
        "        'l2_leaf_reg': [1, 3, 5, 7],\n",
        "        'border_count': [32, 64, 128],\n",
        "        'loss_function': ['RMSE', 'MAE'],\n",
        "        'verbose': [False] # To suppress CatBoost's verbose output during tuning\n",
        "    },\n",
        "    'ElasticNet': {\n",
        "        'alpha': [0.001, 0.01, 0.1, 1, 10],\n",
        "        'l1_ratio': [0.1, 0.3, 0.5, 0.7, 0.9],\n",
        "        'max_iter': [1000, 5000],\n",
        "        'tol': [1e-4, 1e-5],\n",
        "        'selection': ['cyclic', 'random']\n",
        "    }\n",
        "}"
      ],
      "metadata": {
        "id": "tvtusx9LUAXX"
      },
      "execution_count": null,
      "outputs": []
    },
    {
      "cell_type": "markdown",
      "source": [
        "Есть несколько способов выбора гипер параметров, создадим на их основе функцию, для того чтобы вызывать их, когда будем проверять каждую модель по отдельности."
      ],
      "metadata": {
        "id": "_Zqu0ZozpnwO"
      }
    },
    {
      "cell_type": "code",
      "source": [
        "# Grid search by model from the list\n",
        "def do_grid_search(cur_model_name):\n",
        "  for model_name, model in models.items():\n",
        "    if cur_model_name in param_grid and model_name == cur_model_name:\n",
        "        grid_search = GridSearchCV(model, param_grid[model_name], cv=5, scoring='neg_mean_squared_error')\n",
        "        grid_search.fit(X_train, y_train)\n",
        "        print(f\"Best parameters for {model_name}: {grid_search.best_params_}\")\n",
        "        best_params = grid_search.best_params_\n",
        "        return best_params"
      ],
      "metadata": {
        "id": "ivZMqKgYiErZ"
      },
      "execution_count": null,
      "outputs": []
    },
    {
      "cell_type": "code",
      "source": [
        "# Random search by model from the list\n",
        "def do_random_search(cur_model_name):\n",
        "  for model_name, model in models.items():\n",
        "      if cur_model_name in param_grid and model_name == cur_model_name:\n",
        "          random_search = RandomizedSearchCV(model, param_grid[model_name], cv=5, scoring='neg_mean_squared_error')\n",
        "          random_search.fit(X_train, y_train)\n",
        "          print(f\"Best parameters for {model_name}: {random_search.best_params_}\")\n",
        "          return random_search.best_params_"
      ],
      "metadata": {
        "collapsed": true,
        "id": "rrvgX1UbhSDx"
      },
      "execution_count": null,
      "outputs": []
    },
    {
      "cell_type": "markdown",
      "source": [
        "После тщательного анализа, выбор пал в пользу [random_search](https://scikit-learn.org/stable/modules/generated/sklearn.model_selection.RandomizedSearchCV.html)"
      ],
      "metadata": {
        "id": "WJ1r9zvUmIs4"
      }
    },
    {
      "cell_type": "markdown",
      "source": [
        "### Обучение моделей с полученными гиперпараметрами"
      ],
      "metadata": {
        "id": "GNpO39BBUa2a"
      }
    },
    {
      "cell_type": "markdown",
      "source": [
        "#### [LinearRegression](https://scikit-learn.org/stable/modules/generated/sklearn.linear_model.LinearRegression.html)"
      ],
      "metadata": {
        "id": "HmUDkUks2Ddv"
      }
    },
    {
      "cell_type": "code",
      "source": [
        "rs_bp = do_random_search('LinearRegression') # Dictionary with best parameters from random_search\n",
        "lr = LinearRegression(**rs_bp).fit(X_train, y_train)\n",
        "\n",
        "models_metrics = {'LinearRegression':\n",
        " {'r2_score': lr.score(X_test, y_test), 'mae': mean_absolute_error(y_test, lr.predict(X_test)), 'mse': mean_squared_error(y_test, lr.predict(X_test))}}\n",
        "print(lr.score(X_test, y_test))\n",
        "print(mean_absolute_error(y_test, lr.predict(X_test)))\n",
        "print(mean_squared_error(y_test, lr.predict(X_test)))"
      ],
      "metadata": {
        "colab": {
          "base_uri": "https://localhost:8080/"
        },
        "id": "0rwn45hrsfFb",
        "outputId": "f0c14f5b-c5e2-4e3d-e3a7-2bf6fa49f46d"
      },
      "execution_count": null,
      "outputs": [
        {
          "output_type": "stream",
          "name": "stderr",
          "text": [
            "/usr/local/lib/python3.10/dist-packages/sklearn/model_selection/_search.py:305: UserWarning: The total space of parameters 4 is smaller than n_iter=10. Running 4 iterations. For exhaustive searches, use GridSearchCV.\n",
            "  warnings.warn(\n"
          ]
        },
        {
          "output_type": "stream",
          "name": "stdout",
          "text": [
            "Best parameters for LinearRegression: {'n_jobs': -1, 'fit_intercept': True, 'copy_X': True}\n",
            "0.0007962318070418029\n",
            "278416933.77772063\n",
            "1.0134073079358631e+20\n"
          ]
        }
      ]
    },
    {
      "cell_type": "markdown",
      "source": [
        "#### [Ridge](https://scikit-learn.org/stable/modules/generated/sklearn.linear_model.Ridge.html)"
      ],
      "metadata": {
        "id": "KMPL1BII2JAY"
      }
    },
    {
      "cell_type": "code",
      "source": [
        "rs_bp = do_random_search('Ridge')\n",
        "ridge = Ridge(**rs_bp).fit(X_train, y_train)\n",
        "\n",
        "models_metrics['Ridge'] = {'r2_score': ridge.score(X_test, y_test), 'mae': mean_absolute_error(y_test, ridge.predict(X_test)), 'mse': mean_squared_error(y_test, ridge.predict(X_test))}\n",
        "print(ridge.score(X_test, y_test))\n",
        "print(mean_absolute_error(y_test, ridge.predict(X_test)))\n",
        "print(mean_squared_error(y_test, ridge.predict(X_test)))"
      ],
      "metadata": {
        "id": "WtSpourotqC0",
        "colab": {
          "base_uri": "https://localhost:8080/"
        },
        "outputId": "5f110206-fd2d-475f-a153-86fa3b8b9cd2"
      },
      "execution_count": null,
      "outputs": [
        {
          "output_type": "stream",
          "name": "stdout",
          "text": [
            "Best parameters for Ridge: {'tol': 0.001, 'max_iter': 100, 'alpha': 10}\n",
            "0.0007890084448448631\n",
            "277504803.9675785\n",
            "1.0134146339771284e+20\n"
          ]
        }
      ]
    },
    {
      "cell_type": "markdown",
      "source": [
        "#### [Lasso](https://scikit-learn.org/stable/modules/generated/sklearn.linear_model.Lasso.html)"
      ],
      "metadata": {
        "id": "R86sh3s12Mdy"
      }
    },
    {
      "cell_type": "code",
      "source": [
        "rs_bp = do_random_search('Lasso')\n",
        "lasso = Lasso(**rs_bp).fit(X_train, y_train)\n",
        "\n",
        "models_metrics['Lasso'] = {'r2_score': lasso.score(X_test, y_test), 'mae': mean_absolute_error(y_test, lasso.predict(X_test)), 'mse': mean_squared_error(y_test, lasso.predict(X_test))}\n",
        "print(lasso.score(X_test, y_test))\n",
        "print(mean_absolute_error(y_test, lasso.predict(X_test)))\n",
        "print(mean_squared_error(y_test, lasso.predict(X_test)))"
      ],
      "metadata": {
        "id": "NTd1W3PDqWlM",
        "colab": {
          "base_uri": "https://localhost:8080/"
        },
        "outputId": "cdaeaaa9-8c4f-4cf9-9bf7-01c00e57ee33",
        "collapsed": true
      },
      "execution_count": null,
      "outputs": [
        {
          "output_type": "stream",
          "name": "stderr",
          "text": [
            "/usr/local/lib/python3.10/dist-packages/sklearn/linear_model/_coordinate_descent.py:631: ConvergenceWarning: Objective did not converge. You might want to increase the number of iterations, check the scale of the features or consider increasing regularisation. Duality gap: 1.201e+21, tolerance: 2.575e+16\n",
            "  model = cd_fast.enet_coordinate_descent(\n",
            "/usr/local/lib/python3.10/dist-packages/sklearn/linear_model/_coordinate_descent.py:631: ConvergenceWarning: Objective did not converge. You might want to increase the number of iterations, check the scale of the features or consider increasing regularisation. Duality gap: 1.183e+21, tolerance: 2.513e+16\n",
            "  model = cd_fast.enet_coordinate_descent(\n",
            "/usr/local/lib/python3.10/dist-packages/sklearn/linear_model/_coordinate_descent.py:631: ConvergenceWarning: Objective did not converge. You might want to increase the number of iterations, check the scale of the features or consider increasing regularisation. Duality gap: 8.722e+20, tolerance: 1.875e+16\n",
            "  model = cd_fast.enet_coordinate_descent(\n",
            "/usr/local/lib/python3.10/dist-packages/sklearn/linear_model/_coordinate_descent.py:631: ConvergenceWarning: Objective did not converge. You might want to increase the number of iterations, check the scale of the features or consider increasing regularisation. Duality gap: 6.284e+20, tolerance: 1.391e+16\n",
            "  model = cd_fast.enet_coordinate_descent(\n",
            "/usr/local/lib/python3.10/dist-packages/sklearn/linear_model/_coordinate_descent.py:631: ConvergenceWarning: Objective did not converge. You might want to increase the number of iterations, check the scale of the features or consider increasing regularisation. Duality gap: 1.133e+21, tolerance: 2.414e+16\n",
            "  model = cd_fast.enet_coordinate_descent(\n",
            "/usr/local/lib/python3.10/dist-packages/sklearn/linear_model/_coordinate_descent.py:631: ConvergenceWarning: Objective did not converge. You might want to increase the number of iterations, check the scale of the features or consider increasing regularisation. Duality gap: 1.202e+21, tolerance: 2.575e+16\n",
            "  model = cd_fast.enet_coordinate_descent(\n",
            "/usr/local/lib/python3.10/dist-packages/sklearn/linear_model/_coordinate_descent.py:631: ConvergenceWarning: Objective did not converge. You might want to increase the number of iterations, check the scale of the features or consider increasing regularisation. Duality gap: 1.184e+21, tolerance: 2.513e+16\n",
            "  model = cd_fast.enet_coordinate_descent(\n",
            "/usr/local/lib/python3.10/dist-packages/sklearn/linear_model/_coordinate_descent.py:631: ConvergenceWarning: Objective did not converge. You might want to increase the number of iterations, check the scale of the features or consider increasing regularisation. Duality gap: 8.725e+20, tolerance: 1.875e+16\n",
            "  model = cd_fast.enet_coordinate_descent(\n",
            "/usr/local/lib/python3.10/dist-packages/sklearn/linear_model/_coordinate_descent.py:631: ConvergenceWarning: Objective did not converge. You might want to increase the number of iterations, check the scale of the features or consider increasing regularisation. Duality gap: 6.287e+20, tolerance: 1.391e+16\n",
            "  model = cd_fast.enet_coordinate_descent(\n",
            "/usr/local/lib/python3.10/dist-packages/sklearn/linear_model/_coordinate_descent.py:631: ConvergenceWarning: Objective did not converge. You might want to increase the number of iterations, check the scale of the features or consider increasing regularisation. Duality gap: 1.136e+21, tolerance: 2.414e+16\n",
            "  model = cd_fast.enet_coordinate_descent(\n",
            "/usr/local/lib/python3.10/dist-packages/sklearn/linear_model/_coordinate_descent.py:631: ConvergenceWarning: Objective did not converge. You might want to increase the number of iterations, check the scale of the features or consider increasing regularisation. Duality gap: 1.202e+21, tolerance: 2.575e+16\n",
            "  model = cd_fast.enet_coordinate_descent(\n",
            "/usr/local/lib/python3.10/dist-packages/sklearn/linear_model/_coordinate_descent.py:631: ConvergenceWarning: Objective did not converge. You might want to increase the number of iterations, check the scale of the features or consider increasing regularisation. Duality gap: 1.184e+21, tolerance: 2.513e+16\n",
            "  model = cd_fast.enet_coordinate_descent(\n",
            "/usr/local/lib/python3.10/dist-packages/sklearn/linear_model/_coordinate_descent.py:631: ConvergenceWarning: Objective did not converge. You might want to increase the number of iterations, check the scale of the features or consider increasing regularisation. Duality gap: 8.725e+20, tolerance: 1.875e+16\n",
            "  model = cd_fast.enet_coordinate_descent(\n",
            "/usr/local/lib/python3.10/dist-packages/sklearn/linear_model/_coordinate_descent.py:631: ConvergenceWarning: Objective did not converge. You might want to increase the number of iterations, check the scale of the features or consider increasing regularisation. Duality gap: 6.287e+20, tolerance: 1.391e+16\n",
            "  model = cd_fast.enet_coordinate_descent(\n",
            "/usr/local/lib/python3.10/dist-packages/sklearn/linear_model/_coordinate_descent.py:631: ConvergenceWarning: Objective did not converge. You might want to increase the number of iterations, check the scale of the features or consider increasing regularisation. Duality gap: 1.136e+21, tolerance: 2.414e+16\n",
            "  model = cd_fast.enet_coordinate_descent(\n",
            "/usr/local/lib/python3.10/dist-packages/sklearn/linear_model/_coordinate_descent.py:631: ConvergenceWarning: Objective did not converge. You might want to increase the number of iterations, check the scale of the features or consider increasing regularisation. Duality gap: 1.202e+21, tolerance: 2.575e+16\n",
            "  model = cd_fast.enet_coordinate_descent(\n",
            "/usr/local/lib/python3.10/dist-packages/sklearn/linear_model/_coordinate_descent.py:631: ConvergenceWarning: Objective did not converge. You might want to increase the number of iterations, check the scale of the features or consider increasing regularisation. Duality gap: 1.184e+21, tolerance: 2.513e+16\n",
            "  model = cd_fast.enet_coordinate_descent(\n",
            "/usr/local/lib/python3.10/dist-packages/sklearn/linear_model/_coordinate_descent.py:631: ConvergenceWarning: Objective did not converge. You might want to increase the number of iterations, check the scale of the features or consider increasing regularisation. Duality gap: 8.725e+20, tolerance: 1.875e+16\n",
            "  model = cd_fast.enet_coordinate_descent(\n",
            "/usr/local/lib/python3.10/dist-packages/sklearn/linear_model/_coordinate_descent.py:631: ConvergenceWarning: Objective did not converge. You might want to increase the number of iterations, check the scale of the features or consider increasing regularisation. Duality gap: 6.287e+20, tolerance: 1.391e+16\n",
            "  model = cd_fast.enet_coordinate_descent(\n",
            "/usr/local/lib/python3.10/dist-packages/sklearn/linear_model/_coordinate_descent.py:631: ConvergenceWarning: Objective did not converge. You might want to increase the number of iterations, check the scale of the features or consider increasing regularisation. Duality gap: 1.136e+21, tolerance: 2.414e+16\n",
            "  model = cd_fast.enet_coordinate_descent(\n",
            "/usr/local/lib/python3.10/dist-packages/sklearn/linear_model/_coordinate_descent.py:631: ConvergenceWarning: Objective did not converge. You might want to increase the number of iterations, check the scale of the features or consider increasing regularisation. Duality gap: 1.202e+21, tolerance: 2.575e+16\n",
            "  model = cd_fast.enet_coordinate_descent(\n",
            "/usr/local/lib/python3.10/dist-packages/sklearn/linear_model/_coordinate_descent.py:631: ConvergenceWarning: Objective did not converge. You might want to increase the number of iterations, check the scale of the features or consider increasing regularisation. Duality gap: 1.184e+21, tolerance: 2.513e+16\n",
            "  model = cd_fast.enet_coordinate_descent(\n",
            "/usr/local/lib/python3.10/dist-packages/sklearn/linear_model/_coordinate_descent.py:631: ConvergenceWarning: Objective did not converge. You might want to increase the number of iterations, check the scale of the features or consider increasing regularisation. Duality gap: 8.724e+20, tolerance: 1.875e+16\n",
            "  model = cd_fast.enet_coordinate_descent(\n",
            "/usr/local/lib/python3.10/dist-packages/sklearn/linear_model/_coordinate_descent.py:631: ConvergenceWarning: Objective did not converge. You might want to increase the number of iterations, check the scale of the features or consider increasing regularisation. Duality gap: 6.286e+20, tolerance: 1.391e+16\n",
            "  model = cd_fast.enet_coordinate_descent(\n",
            "/usr/local/lib/python3.10/dist-packages/sklearn/linear_model/_coordinate_descent.py:631: ConvergenceWarning: Objective did not converge. You might want to increase the number of iterations, check the scale of the features or consider increasing regularisation. Duality gap: 1.135e+21, tolerance: 2.414e+16\n",
            "  model = cd_fast.enet_coordinate_descent(\n",
            "/usr/local/lib/python3.10/dist-packages/sklearn/linear_model/_coordinate_descent.py:631: ConvergenceWarning: Objective did not converge. You might want to increase the number of iterations, check the scale of the features or consider increasing regularisation. Duality gap: 1.202e+21, tolerance: 2.575e+16\n",
            "  model = cd_fast.enet_coordinate_descent(\n",
            "/usr/local/lib/python3.10/dist-packages/sklearn/linear_model/_coordinate_descent.py:631: ConvergenceWarning: Objective did not converge. You might want to increase the number of iterations, check the scale of the features or consider increasing regularisation. Duality gap: 1.183e+21, tolerance: 2.513e+16\n",
            "  model = cd_fast.enet_coordinate_descent(\n",
            "/usr/local/lib/python3.10/dist-packages/sklearn/linear_model/_coordinate_descent.py:631: ConvergenceWarning: Objective did not converge. You might want to increase the number of iterations, check the scale of the features or consider increasing regularisation. Duality gap: 8.723e+20, tolerance: 1.875e+16\n",
            "  model = cd_fast.enet_coordinate_descent(\n",
            "/usr/local/lib/python3.10/dist-packages/sklearn/linear_model/_coordinate_descent.py:631: ConvergenceWarning: Objective did not converge. You might want to increase the number of iterations, check the scale of the features or consider increasing regularisation. Duality gap: 6.285e+20, tolerance: 1.391e+16\n",
            "  model = cd_fast.enet_coordinate_descent(\n",
            "/usr/local/lib/python3.10/dist-packages/sklearn/linear_model/_coordinate_descent.py:631: ConvergenceWarning: Objective did not converge. You might want to increase the number of iterations, check the scale of the features or consider increasing regularisation. Duality gap: 1.135e+21, tolerance: 2.414e+16\n",
            "  model = cd_fast.enet_coordinate_descent(\n",
            "/usr/local/lib/python3.10/dist-packages/sklearn/linear_model/_coordinate_descent.py:631: ConvergenceWarning: Objective did not converge. You might want to increase the number of iterations, check the scale of the features or consider increasing regularisation. Duality gap: 1.202e+21, tolerance: 2.575e+16\n",
            "  model = cd_fast.enet_coordinate_descent(\n",
            "/usr/local/lib/python3.10/dist-packages/sklearn/linear_model/_coordinate_descent.py:631: ConvergenceWarning: Objective did not converge. You might want to increase the number of iterations, check the scale of the features or consider increasing regularisation. Duality gap: 1.184e+21, tolerance: 2.513e+16\n",
            "  model = cd_fast.enet_coordinate_descent(\n",
            "/usr/local/lib/python3.10/dist-packages/sklearn/linear_model/_coordinate_descent.py:631: ConvergenceWarning: Objective did not converge. You might want to increase the number of iterations, check the scale of the features or consider increasing regularisation. Duality gap: 8.725e+20, tolerance: 1.875e+16\n",
            "  model = cd_fast.enet_coordinate_descent(\n",
            "/usr/local/lib/python3.10/dist-packages/sklearn/linear_model/_coordinate_descent.py:631: ConvergenceWarning: Objective did not converge. You might want to increase the number of iterations, check the scale of the features or consider increasing regularisation. Duality gap: 6.287e+20, tolerance: 1.391e+16\n",
            "  model = cd_fast.enet_coordinate_descent(\n",
            "/usr/local/lib/python3.10/dist-packages/sklearn/linear_model/_coordinate_descent.py:631: ConvergenceWarning: Objective did not converge. You might want to increase the number of iterations, check the scale of the features or consider increasing regularisation. Duality gap: 1.136e+21, tolerance: 2.414e+16\n",
            "  model = cd_fast.enet_coordinate_descent(\n",
            "/usr/local/lib/python3.10/dist-packages/sklearn/linear_model/_coordinate_descent.py:631: ConvergenceWarning: Objective did not converge. You might want to increase the number of iterations, check the scale of the features or consider increasing regularisation. Duality gap: 1.202e+21, tolerance: 2.575e+16\n",
            "  model = cd_fast.enet_coordinate_descent(\n",
            "/usr/local/lib/python3.10/dist-packages/sklearn/linear_model/_coordinate_descent.py:631: ConvergenceWarning: Objective did not converge. You might want to increase the number of iterations, check the scale of the features or consider increasing regularisation. Duality gap: 1.184e+21, tolerance: 2.513e+16\n",
            "  model = cd_fast.enet_coordinate_descent(\n",
            "/usr/local/lib/python3.10/dist-packages/sklearn/linear_model/_coordinate_descent.py:631: ConvergenceWarning: Objective did not converge. You might want to increase the number of iterations, check the scale of the features or consider increasing regularisation. Duality gap: 8.725e+20, tolerance: 1.875e+16\n",
            "  model = cd_fast.enet_coordinate_descent(\n",
            "/usr/local/lib/python3.10/dist-packages/sklearn/linear_model/_coordinate_descent.py:631: ConvergenceWarning: Objective did not converge. You might want to increase the number of iterations, check the scale of the features or consider increasing regularisation. Duality gap: 6.287e+20, tolerance: 1.391e+16\n",
            "  model = cd_fast.enet_coordinate_descent(\n",
            "/usr/local/lib/python3.10/dist-packages/sklearn/linear_model/_coordinate_descent.py:631: ConvergenceWarning: Objective did not converge. You might want to increase the number of iterations, check the scale of the features or consider increasing regularisation. Duality gap: 1.136e+21, tolerance: 2.414e+16\n",
            "  model = cd_fast.enet_coordinate_descent(\n",
            "/usr/local/lib/python3.10/dist-packages/sklearn/linear_model/_coordinate_descent.py:631: ConvergenceWarning: Objective did not converge. You might want to increase the number of iterations, check the scale of the features or consider increasing regularisation. Duality gap: 1.202e+21, tolerance: 2.575e+16\n",
            "  model = cd_fast.enet_coordinate_descent(\n",
            "/usr/local/lib/python3.10/dist-packages/sklearn/linear_model/_coordinate_descent.py:631: ConvergenceWarning: Objective did not converge. You might want to increase the number of iterations, check the scale of the features or consider increasing regularisation. Duality gap: 1.184e+21, tolerance: 2.513e+16\n",
            "  model = cd_fast.enet_coordinate_descent(\n",
            "/usr/local/lib/python3.10/dist-packages/sklearn/linear_model/_coordinate_descent.py:631: ConvergenceWarning: Objective did not converge. You might want to increase the number of iterations, check the scale of the features or consider increasing regularisation. Duality gap: 8.724e+20, tolerance: 1.875e+16\n",
            "  model = cd_fast.enet_coordinate_descent(\n",
            "/usr/local/lib/python3.10/dist-packages/sklearn/linear_model/_coordinate_descent.py:631: ConvergenceWarning: Objective did not converge. You might want to increase the number of iterations, check the scale of the features or consider increasing regularisation. Duality gap: 6.286e+20, tolerance: 1.391e+16\n",
            "  model = cd_fast.enet_coordinate_descent(\n",
            "/usr/local/lib/python3.10/dist-packages/sklearn/linear_model/_coordinate_descent.py:631: ConvergenceWarning: Objective did not converge. You might want to increase the number of iterations, check the scale of the features or consider increasing regularisation. Duality gap: 1.136e+21, tolerance: 2.414e+16\n",
            "  model = cd_fast.enet_coordinate_descent(\n",
            "/usr/local/lib/python3.10/dist-packages/sklearn/linear_model/_coordinate_descent.py:631: ConvergenceWarning: Objective did not converge. You might want to increase the number of iterations, check the scale of the features or consider increasing regularisation. Duality gap: 1.202e+21, tolerance: 2.575e+16\n",
            "  model = cd_fast.enet_coordinate_descent(\n",
            "/usr/local/lib/python3.10/dist-packages/sklearn/linear_model/_coordinate_descent.py:631: ConvergenceWarning: Objective did not converge. You might want to increase the number of iterations, check the scale of the features or consider increasing regularisation. Duality gap: 1.184e+21, tolerance: 2.513e+16\n",
            "  model = cd_fast.enet_coordinate_descent(\n",
            "/usr/local/lib/python3.10/dist-packages/sklearn/linear_model/_coordinate_descent.py:631: ConvergenceWarning: Objective did not converge. You might want to increase the number of iterations, check the scale of the features or consider increasing regularisation. Duality gap: 8.725e+20, tolerance: 1.875e+16\n",
            "  model = cd_fast.enet_coordinate_descent(\n",
            "/usr/local/lib/python3.10/dist-packages/sklearn/linear_model/_coordinate_descent.py:631: ConvergenceWarning: Objective did not converge. You might want to increase the number of iterations, check the scale of the features or consider increasing regularisation. Duality gap: 6.287e+20, tolerance: 1.391e+16\n",
            "  model = cd_fast.enet_coordinate_descent(\n",
            "/usr/local/lib/python3.10/dist-packages/sklearn/linear_model/_coordinate_descent.py:631: ConvergenceWarning: Objective did not converge. You might want to increase the number of iterations, check the scale of the features or consider increasing regularisation. Duality gap: 1.136e+21, tolerance: 2.414e+16\n",
            "  model = cd_fast.enet_coordinate_descent(\n",
            "/usr/local/lib/python3.10/dist-packages/sklearn/linear_model/_coordinate_descent.py:631: ConvergenceWarning: Objective did not converge. You might want to increase the number of iterations, check the scale of the features or consider increasing regularisation. Duality gap: 1.262e+21, tolerance: 2.692e+16\n",
            "  model = cd_fast.enet_coordinate_descent(\n"
          ]
        },
        {
          "output_type": "stream",
          "name": "stdout",
          "text": [
            "Best parameters for Lasso: {'tol': 1e-05, 'selection': 'random', 'max_iter': 1000, 'alpha': 1}\n",
            "0.0007959787722991996\n",
            "278371447.23419374\n",
            "1.0134075645674586e+20\n"
          ]
        },
        {
          "output_type": "stream",
          "name": "stderr",
          "text": [
            "/usr/local/lib/python3.10/dist-packages/sklearn/linear_model/_coordinate_descent.py:631: ConvergenceWarning: Objective did not converge. You might want to increase the number of iterations, check the scale of the features or consider increasing regularisation. Duality gap: 1.262e+21, tolerance: 2.692e+16\n",
            "  model = cd_fast.enet_coordinate_descent(\n"
          ]
        }
      ]
    },
    {
      "cell_type": "markdown",
      "source": [
        "#### [MLPRegressor](https://scikit-learn.org/stable/modules/generated/sklearn.neural_network.MLPRegressor.html#sklearn.neural_network.MLPRegressor)"
      ],
      "metadata": {
        "id": "iQkExbRc2l1J"
      }
    },
    {
      "cell_type": "code",
      "source": [
        "rs_bp = do_random_search('MLPRegressor')\n",
        "mlp = MLPRegressor(**rs_bp).fit(X_train, y_train)\n",
        "\n",
        "models_metrics['MLPRegressor'] = {'r2_score': mlp.score(X_test, y_test), 'mae': mean_absolute_error(y_test, mlp.predict(X_test)), 'mse': mean_squared_error(y_test, mlp.predict(X_test))}\n",
        "print(mlp.score(X_test, y_test))\n",
        "print(mean_absolute_error(y_test, mlp.predict(X_test)))\n",
        "print(mean_squared_error(y_test, mlp.predict(X_test)))"
      ],
      "metadata": {
        "id": "sxveVPrG0zeT",
        "colab": {
          "base_uri": "https://localhost:8080/"
        },
        "outputId": "17680043-dd9c-48ad-835a-c9ceb4c99087",
        "collapsed": true
      },
      "execution_count": null,
      "outputs": [
        {
          "output_type": "stream",
          "name": "stderr",
          "text": [
            "/usr/local/lib/python3.10/dist-packages/sklearn/model_selection/_search.py:305: UserWarning: The total space of parameters 3 is smaller than n_iter=10. Running 3 iterations. For exhaustive searches, use GridSearchCV.\n",
            "  warnings.warn(\n",
            "/usr/local/lib/python3.10/dist-packages/sklearn/neural_network/_multilayer_perceptron.py:686: ConvergenceWarning: Stochastic Optimizer: Maximum iterations (200) reached and the optimization hasn't converged yet.\n",
            "  warnings.warn(\n",
            "/usr/local/lib/python3.10/dist-packages/sklearn/neural_network/_multilayer_perceptron.py:686: ConvergenceWarning: Stochastic Optimizer: Maximum iterations (200) reached and the optimization hasn't converged yet.\n",
            "  warnings.warn(\n",
            "/usr/local/lib/python3.10/dist-packages/sklearn/neural_network/_multilayer_perceptron.py:686: ConvergenceWarning: Stochastic Optimizer: Maximum iterations (200) reached and the optimization hasn't converged yet.\n",
            "  warnings.warn(\n",
            "/usr/local/lib/python3.10/dist-packages/sklearn/neural_network/_multilayer_perceptron.py:686: ConvergenceWarning: Stochastic Optimizer: Maximum iterations (200) reached and the optimization hasn't converged yet.\n",
            "  warnings.warn(\n",
            "/usr/local/lib/python3.10/dist-packages/sklearn/neural_network/_multilayer_perceptron.py:686: ConvergenceWarning: Stochastic Optimizer: Maximum iterations (200) reached and the optimization hasn't converged yet.\n",
            "  warnings.warn(\n",
            "/usr/local/lib/python3.10/dist-packages/sklearn/neural_network/_multilayer_perceptron.py:686: ConvergenceWarning: Stochastic Optimizer: Maximum iterations (500) reached and the optimization hasn't converged yet.\n",
            "  warnings.warn(\n",
            "/usr/local/lib/python3.10/dist-packages/sklearn/neural_network/_multilayer_perceptron.py:686: ConvergenceWarning: Stochastic Optimizer: Maximum iterations (500) reached and the optimization hasn't converged yet.\n",
            "  warnings.warn(\n",
            "/usr/local/lib/python3.10/dist-packages/sklearn/neural_network/_multilayer_perceptron.py:686: ConvergenceWarning: Stochastic Optimizer: Maximum iterations (500) reached and the optimization hasn't converged yet.\n",
            "  warnings.warn(\n",
            "/usr/local/lib/python3.10/dist-packages/sklearn/neural_network/_multilayer_perceptron.py:686: ConvergenceWarning: Stochastic Optimizer: Maximum iterations (500) reached and the optimization hasn't converged yet.\n",
            "  warnings.warn(\n",
            "/usr/local/lib/python3.10/dist-packages/sklearn/neural_network/_multilayer_perceptron.py:686: ConvergenceWarning: Stochastic Optimizer: Maximum iterations (500) reached and the optimization hasn't converged yet.\n",
            "  warnings.warn(\n",
            "/usr/local/lib/python3.10/dist-packages/sklearn/neural_network/_multilayer_perceptron.py:686: ConvergenceWarning: Stochastic Optimizer: Maximum iterations (1000) reached and the optimization hasn't converged yet.\n",
            "  warnings.warn(\n",
            "/usr/local/lib/python3.10/dist-packages/sklearn/neural_network/_multilayer_perceptron.py:686: ConvergenceWarning: Stochastic Optimizer: Maximum iterations (1000) reached and the optimization hasn't converged yet.\n",
            "  warnings.warn(\n",
            "/usr/local/lib/python3.10/dist-packages/sklearn/neural_network/_multilayer_perceptron.py:686: ConvergenceWarning: Stochastic Optimizer: Maximum iterations (1000) reached and the optimization hasn't converged yet.\n",
            "  warnings.warn(\n",
            "/usr/local/lib/python3.10/dist-packages/sklearn/neural_network/_multilayer_perceptron.py:686: ConvergenceWarning: Stochastic Optimizer: Maximum iterations (1000) reached and the optimization hasn't converged yet.\n",
            "  warnings.warn(\n",
            "/usr/local/lib/python3.10/dist-packages/sklearn/neural_network/_multilayer_perceptron.py:686: ConvergenceWarning: Stochastic Optimizer: Maximum iterations (1000) reached and the optimization hasn't converged yet.\n",
            "  warnings.warn(\n",
            "/usr/local/lib/python3.10/dist-packages/sklearn/neural_network/_multilayer_perceptron.py:686: ConvergenceWarning: Stochastic Optimizer: Maximum iterations (1000) reached and the optimization hasn't converged yet.\n",
            "  warnings.warn(\n"
          ]
        },
        {
          "output_type": "stream",
          "name": "stdout",
          "text": [
            "Best parameters for MLPRegressor: {'max_iter': 1000, 'activation': 'relu'}\n",
            "-0.00036680373394615273\n",
            "230540132.00836092\n",
            "1.0145868758619906e+20\n"
          ]
        },
        {
          "output_type": "stream",
          "name": "stderr",
          "text": [
            "/usr/local/lib/python3.10/dist-packages/sklearn/neural_network/_multilayer_perceptron.py:686: ConvergenceWarning: Stochastic Optimizer: Maximum iterations (1000) reached and the optimization hasn't converged yet.\n",
            "  warnings.warn(\n"
          ]
        }
      ]
    },
    {
      "cell_type": "markdown",
      "source": [
        "#### Epsilon-Support Vector Regression ([SVR](https://scikit-learn.org/stable/modules/generated/sklearn.svm.SVR.html))"
      ],
      "metadata": {
        "id": "p2pRVuPZ2o0m"
      }
    },
    {
      "cell_type": "code",
      "source": [
        "rs_bp = do_random_search('SVR')\n",
        "svr = SVR(**rs_bp).fit(X_train, y_train)\n",
        "\n",
        "models_metrics['SVR'] = {'r2_score': svr.score(X_test, y_test), 'mae': mean_absolute_error(y_test, svr.predict(X_test)), 'mse': mean_squared_error(y_test, svr.predict(X_test))}\n",
        "print(svr.score(X_test, y_test))\n",
        "print(mean_absolute_error(y_test, svr.predict(X_test)))\n",
        "print(mean_squared_error(y_test, svr.predict(X_test)))"
      ],
      "metadata": {
        "id": "SmHLz_DC9MKr",
        "colab": {
          "base_uri": "https://localhost:8080/"
        },
        "outputId": "86565364-30c1-45de-c027-33bf4034681c"
      },
      "execution_count": null,
      "outputs": [
        {
          "output_type": "stream",
          "name": "stdout",
          "text": [
            "Best parameters for SVR: {'tol': 1e-05, 'kernel': 'linear', 'gamma': 'auto', 'epsilon': 0.01, 'C': 100}\n",
            "-0.028601266225374067\n",
            "61265972.27337809\n",
            "1.0839103188401069e+17\n"
          ]
        }
      ]
    },
    {
      "cell_type": "markdown",
      "source": [
        "#### [CatBoostRegressor](https://catboost.ai/en/concepts/python-reference_catboostregressor)"
      ],
      "metadata": {
        "id": "9Hh7b8rZ2uV8"
      }
    },
    {
      "cell_type": "code",
      "source": [
        "X, y = X_train, y_train\n",
        "rs_bp = do_random_search('CatBoostRegressor')\n",
        "cb_model = CatBoostRegressor(**rs_bp).fit(X, y)\n",
        "\n",
        "models_metrics['CatBoostRegressor'] = {'r2_score': r2_score(y_test, cb_model.predict(X_test)), 'mae': mean_absolute_error(y_test, cb_model.predict(X_test)), 'mse': mean_squared_error(y_test, cb_model.predict(X_test))}\n"
      ],
      "metadata": {
        "id": "pvRM5UYvcEbG",
        "collapsed": true,
        "colab": {
          "base_uri": "https://localhost:8080/"
        },
        "outputId": "e4870033-137d-44ed-f9b2-fd87a857f5b3"
      },
      "execution_count": null,
      "outputs": [
        {
          "output_type": "stream",
          "name": "stdout",
          "text": [
            "Best parameters for CatBoostRegressor: {'verbose': False, 'loss_function': 'RMSE', 'learning_rate': 0.05, 'l2_leaf_reg': 3, 'iterations': 100, 'depth': 8, 'border_count': 32}\n"
          ]
        }
      ]
    },
    {
      "cell_type": "markdown",
      "source": [
        "#### [ElasticNet](https://scikit-learn.org/stable/modules/generated/sklearn.linear_model.ElasticNet.html)"
      ],
      "metadata": {
        "id": "Oi8KXk3MqFDy"
      }
    },
    {
      "cell_type": "code",
      "source": [
        "rs_bp = do_random_search('ElasticNet')\n",
        "en = ElasticNet(**rs_bp).fit(X_train, y_train)\n",
        "\n",
        "models_metrics['ElasticNet'] = {'r2_score': en.score(X_test, y_test), 'mae': mean_absolute_error(y_test, en.predict(X_test)), 'mse': mean_squared_error(y_test, en.predict(X_test))}\n",
        "print(en.score(X_test, y_test))\n",
        "print(mean_absolute_error(y_test, en.predict(X_test)))\n",
        "print(mean_squared_error(y_test, en.predict(X_test)))"
      ],
      "metadata": {
        "id": "lNzzzCLwqL_Q",
        "colab": {
          "base_uri": "https://localhost:8080/"
        },
        "collapsed": true,
        "outputId": "07f17404-794c-4846-f200-a764afe0b1c4"
      },
      "execution_count": null,
      "outputs": [
        {
          "output_type": "stream",
          "name": "stderr",
          "text": [
            "/usr/local/lib/python3.10/dist-packages/sklearn/linear_model/_coordinate_descent.py:631: ConvergenceWarning: Objective did not converge. You might want to increase the number of iterations, check the scale of the features or consider increasing regularisation. Duality gap: 4.597e+20, tolerance: 2.575e+17\n",
            "  model = cd_fast.enet_coordinate_descent(\n",
            "/usr/local/lib/python3.10/dist-packages/sklearn/linear_model/_coordinate_descent.py:631: ConvergenceWarning: Objective did not converge. You might want to increase the number of iterations, check the scale of the features or consider increasing regularisation. Duality gap: 4.089e+20, tolerance: 2.513e+17\n",
            "  model = cd_fast.enet_coordinate_descent(\n",
            "/usr/local/lib/python3.10/dist-packages/sklearn/linear_model/_coordinate_descent.py:631: ConvergenceWarning: Objective did not converge. You might want to increase the number of iterations, check the scale of the features or consider increasing regularisation. Duality gap: 3.120e+20, tolerance: 1.875e+17\n",
            "  model = cd_fast.enet_coordinate_descent(\n",
            "/usr/local/lib/python3.10/dist-packages/sklearn/linear_model/_coordinate_descent.py:631: ConvergenceWarning: Objective did not converge. You might want to increase the number of iterations, check the scale of the features or consider increasing regularisation. Duality gap: 1.854e+20, tolerance: 1.391e+17\n",
            "  model = cd_fast.enet_coordinate_descent(\n",
            "/usr/local/lib/python3.10/dist-packages/sklearn/linear_model/_coordinate_descent.py:631: ConvergenceWarning: Objective did not converge. You might want to increase the number of iterations, check the scale of the features or consider increasing regularisation. Duality gap: 4.548e+20, tolerance: 2.414e+17\n",
            "  model = cd_fast.enet_coordinate_descent(\n",
            "/usr/local/lib/python3.10/dist-packages/sklearn/linear_model/_coordinate_descent.py:631: ConvergenceWarning: Objective did not converge. You might want to increase the number of iterations, check the scale of the features or consider increasing regularisation. Duality gap: 1.223e+21, tolerance: 2.575e+17\n",
            "  model = cd_fast.enet_coordinate_descent(\n",
            "/usr/local/lib/python3.10/dist-packages/sklearn/linear_model/_coordinate_descent.py:631: ConvergenceWarning: Objective did not converge. You might want to increase the number of iterations, check the scale of the features or consider increasing regularisation. Duality gap: 1.202e+21, tolerance: 2.513e+17\n",
            "  model = cd_fast.enet_coordinate_descent(\n",
            "/usr/local/lib/python3.10/dist-packages/sklearn/linear_model/_coordinate_descent.py:631: ConvergenceWarning: Objective did not converge. You might want to increase the number of iterations, check the scale of the features or consider increasing regularisation. Duality gap: 8.871e+20, tolerance: 1.875e+17\n",
            "  model = cd_fast.enet_coordinate_descent(\n",
            "/usr/local/lib/python3.10/dist-packages/sklearn/linear_model/_coordinate_descent.py:631: ConvergenceWarning: Objective did not converge. You might want to increase the number of iterations, check the scale of the features or consider increasing regularisation. Duality gap: 6.455e+20, tolerance: 1.391e+17\n",
            "  model = cd_fast.enet_coordinate_descent(\n",
            "/usr/local/lib/python3.10/dist-packages/sklearn/linear_model/_coordinate_descent.py:631: ConvergenceWarning: Objective did not converge. You might want to increase the number of iterations, check the scale of the features or consider increasing regularisation. Duality gap: 1.154e+21, tolerance: 2.414e+17\n",
            "  model = cd_fast.enet_coordinate_descent(\n",
            "/usr/local/lib/python3.10/dist-packages/sklearn/linear_model/_coordinate_descent.py:631: ConvergenceWarning: Objective did not converge. You might want to increase the number of iterations, check the scale of the features or consider increasing regularisation. Duality gap: 1.203e+21, tolerance: 2.575e+17\n",
            "  model = cd_fast.enet_coordinate_descent(\n",
            "/usr/local/lib/python3.10/dist-packages/sklearn/linear_model/_coordinate_descent.py:631: ConvergenceWarning: Objective did not converge. You might want to increase the number of iterations, check the scale of the features or consider increasing regularisation. Duality gap: 1.185e+21, tolerance: 2.513e+17\n",
            "  model = cd_fast.enet_coordinate_descent(\n",
            "/usr/local/lib/python3.10/dist-packages/sklearn/linear_model/_coordinate_descent.py:631: ConvergenceWarning: Objective did not converge. You might want to increase the number of iterations, check the scale of the features or consider increasing regularisation. Duality gap: 8.732e+20, tolerance: 1.875e+17\n",
            "  model = cd_fast.enet_coordinate_descent(\n",
            "/usr/local/lib/python3.10/dist-packages/sklearn/linear_model/_coordinate_descent.py:631: ConvergenceWarning: Objective did not converge. You might want to increase the number of iterations, check the scale of the features or consider increasing regularisation. Duality gap: 6.295e+20, tolerance: 1.391e+17\n",
            "  model = cd_fast.enet_coordinate_descent(\n",
            "/usr/local/lib/python3.10/dist-packages/sklearn/linear_model/_coordinate_descent.py:631: ConvergenceWarning: Objective did not converge. You might want to increase the number of iterations, check the scale of the features or consider increasing regularisation. Duality gap: 1.137e+21, tolerance: 2.414e+17\n",
            "  model = cd_fast.enet_coordinate_descent(\n",
            "/usr/local/lib/python3.10/dist-packages/sklearn/linear_model/_coordinate_descent.py:631: ConvergenceWarning: Objective did not converge. You might want to increase the number of iterations, check the scale of the features or consider increasing regularisation. Duality gap: 4.946e+20, tolerance: 2.692e+17\n",
            "  model = cd_fast.enet_coordinate_descent(\n"
          ]
        },
        {
          "output_type": "stream",
          "name": "stdout",
          "text": [
            "Best parameters for ElasticNet: {'tol': 0.0001, 'selection': 'cyclic', 'max_iter': 1000, 'l1_ratio': 0.9, 'alpha': 1}\n",
            "0.0004955636945098707\n",
            "260912874.87386024\n",
            "1.0137122500029392e+20\n"
          ]
        },
        {
          "output_type": "stream",
          "name": "stderr",
          "text": [
            "/usr/local/lib/python3.10/dist-packages/sklearn/linear_model/_coordinate_descent.py:631: ConvergenceWarning: Objective did not converge. You might want to increase the number of iterations, check the scale of the features or consider increasing regularisation. Duality gap: 4.946e+20, tolerance: 2.692e+17\n",
            "  model = cd_fast.enet_coordinate_descent(\n"
          ]
        }
      ]
    },
    {
      "cell_type": "markdown",
      "source": [
        "### Обучение полносвязной нейронной сети"
      ],
      "metadata": {
        "id": "2Hwpkfce0RTL"
      }
    },
    {
      "cell_type": "markdown",
      "source": [
        "#### Первая версия"
      ],
      "metadata": {
        "id": "PZpWoPPCapIl"
      }
    },
    {
      "cell_type": "code",
      "source": [
        "model_regression = tf.keras.Sequential(\n",
        "    [\n",
        "        tf.keras.layers.Dense(64, activation=\"relu\", input_shape=(300,)),\n",
        "\n",
        "        tf.keras.layers.Dense(128, activation=\"linear\"),\n",
        "        tf.keras.layers.Dropout(0.05),\n",
        "\n",
        "        tf.keras.layers.Dense(256, activation=\"relu\"),\n",
        "        tf.keras.layers.Dropout(0.025),\n",
        "\n",
        "        tf.keras.layers.Dense(128, activation=\"linear\"),\n",
        "        tf.keras.layers.Dropout(0.05),\n",
        "\n",
        "        tf.keras.layers.Dense(64, activation=\"relu\"),\n",
        "\n",
        "        tf.keras.layers.Dense(32, activation=\"linear\"),\n",
        "\n",
        "        tf.keras.layers.Dense(1, activation=\"linear\"),\n",
        "    ]\n",
        ")"
      ],
      "metadata": {
        "id": "F4OIXJjo20-S"
      },
      "execution_count": null,
      "outputs": []
    },
    {
      "cell_type": "code",
      "source": [
        "model_regression.summary()\n",
        "model_regression.compile(optimizer=tf.keras.optimizers.RMSprop(learning_rate=0.01), loss=\"mse\")\n",
        "model_regression.fit(X_train, y_train, epochs=50, verbose=None)"
      ],
      "metadata": {
        "colab": {
          "base_uri": "https://localhost:8080/"
        },
        "id": "rkP4ufbB4PZb",
        "outputId": "aa59da12-2ff3-458c-8d6a-ee24077476c8",
        "collapsed": true
      },
      "execution_count": null,
      "outputs": [
        {
          "output_type": "stream",
          "name": "stdout",
          "text": [
            "Model: \"sequential_6\"\n",
            "_________________________________________________________________\n",
            " Layer (type)                Output Shape              Param #   \n",
            "=================================================================\n",
            " dense_41 (Dense)            (None, 64)                19264     \n",
            "                                                                 \n",
            " dense_42 (Dense)            (None, 128)               8320      \n",
            "                                                                 \n",
            " dropout_22 (Dropout)        (None, 128)               0         \n",
            "                                                                 \n",
            " dense_43 (Dense)            (None, 256)               33024     \n",
            "                                                                 \n",
            " dropout_23 (Dropout)        (None, 256)               0         \n",
            "                                                                 \n",
            " dense_44 (Dense)            (None, 128)               32896     \n",
            "                                                                 \n",
            " dropout_24 (Dropout)        (None, 128)               0         \n",
            "                                                                 \n",
            " dense_45 (Dense)            (None, 64)                8256      \n",
            "                                                                 \n",
            " dense_46 (Dense)            (None, 32)                2080      \n",
            "                                                                 \n",
            " dense_47 (Dense)            (None, 1)                 33        \n",
            "                                                                 \n",
            "=================================================================\n",
            "Total params: 103873 (405.75 KB)\n",
            "Trainable params: 103873 (405.75 KB)\n",
            "Non-trainable params: 0 (0.00 Byte)\n",
            "_________________________________________________________________\n"
          ]
        },
        {
          "output_type": "execute_result",
          "data": {
            "text/plain": [
              "<keras.src.callbacks.History at 0x7e10243bee90>"
            ]
          },
          "metadata": {},
          "execution_count": 46
        }
      ]
    },
    {
      "cell_type": "code",
      "source": [
        "mae = mean_absolute_error(y_test, model_regression.predict(X_test, verbose=None))\n",
        "mse = mean_squared_error(y_test, model_regression.predict(X_test, verbose=None))\n",
        "r2 = r2_score(y_test, model_regression.predict(X_test, verbose=None))"
      ],
      "metadata": {
        "id": "LieEcyQ36Ouu"
      },
      "execution_count": null,
      "outputs": []
    },
    {
      "cell_type": "code",
      "source": [
        "print(mae, mse, r2)\n",
        "\n",
        "models_metrics['Gen1'] = {'r2_score': r2, 'mae': mae, 'mse': mse}"
      ],
      "metadata": {
        "colab": {
          "base_uri": "https://localhost:8080/"
        },
        "id": "5-rWV0V2obnW",
        "outputId": "e5b8ec50-f0c1-4994-c32e-f0aa18600898"
      },
      "execution_count": null,
      "outputs": [
        {
          "output_type": "stream",
          "name": "stdout",
          "text": [
            "228356919.24675754 1.0147329351154732e+20 -0.0005108158752800129\n"
          ]
        }
      ]
    },
    {
      "cell_type": "markdown",
      "source": [
        "#### Вторая версия"
      ],
      "metadata": {
        "id": "07_iNLaFZ7Cn"
      }
    },
    {
      "cell_type": "code",
      "source": [
        "model_regression = tf.keras.Sequential(\n",
        "    [\n",
        "        tf.keras.layers.Dense(256, activation=\"relu\", input_shape=(300,)),\n",
        "        tf.keras.layers.BatchNormalization(),\n",
        "        tf.keras.layers.Dropout(0.3),\n",
        "\n",
        "        tf.keras.layers.Dense(512, activation=\"relu\"),\n",
        "        tf.keras.layers.BatchNormalization(),\n",
        "        tf.keras.layers.Dropout(0.3),\n",
        "\n",
        "        tf.keras.layers.Dense(256, activation=\"relu\"),\n",
        "        tf.keras.layers.BatchNormalization(),\n",
        "        tf.keras.layers.Dropout(0.2),\n",
        "\n",
        "        tf.keras.layers.Dense(128, activation=\"relu\"),\n",
        "        tf.keras.layers.BatchNormalization(),\n",
        "\n",
        "        tf.keras.layers.Dense(64, activation=\"relu\"),\n",
        "\n",
        "        tf.keras.layers.Dense(1, activation=\"linear\"),\n",
        "    ]\n",
        ")\n",
        "\n",
        "model_regression.summary()\n",
        "model_regression.compile(optimizer=tf.keras.optimizers.RMSprop(learning_rate=0.01), loss=\"mse\")\n",
        "model_regression.fit(X_train, y_train, epochs=50, verbose=None)"
      ],
      "metadata": {
        "colab": {
          "base_uri": "https://localhost:8080/"
        },
        "id": "VHmh7W-1IVoT",
        "outputId": "635f7b13-4178-423d-ca33-9d4349be6be1"
      },
      "execution_count": null,
      "outputs": [
        {
          "output_type": "stream",
          "name": "stdout",
          "text": [
            "Model: \"sequential_7\"\n",
            "_________________________________________________________________\n",
            " Layer (type)                Output Shape              Param #   \n",
            "=================================================================\n",
            " dense_48 (Dense)            (None, 256)               77056     \n",
            "                                                                 \n",
            " batch_normalization_18 (Ba  (None, 256)               1024      \n",
            " tchNormalization)                                               \n",
            "                                                                 \n",
            " dropout_25 (Dropout)        (None, 256)               0         \n",
            "                                                                 \n",
            " dense_49 (Dense)            (None, 512)               131584    \n",
            "                                                                 \n",
            " batch_normalization_19 (Ba  (None, 512)               2048      \n",
            " tchNormalization)                                               \n",
            "                                                                 \n",
            " dropout_26 (Dropout)        (None, 512)               0         \n",
            "                                                                 \n",
            " dense_50 (Dense)            (None, 256)               131328    \n",
            "                                                                 \n",
            " batch_normalization_20 (Ba  (None, 256)               1024      \n",
            " tchNormalization)                                               \n",
            "                                                                 \n",
            " dropout_27 (Dropout)        (None, 256)               0         \n",
            "                                                                 \n",
            " dense_51 (Dense)            (None, 128)               32896     \n",
            "                                                                 \n",
            " batch_normalization_21 (Ba  (None, 128)               512       \n",
            " tchNormalization)                                               \n",
            "                                                                 \n",
            " dense_52 (Dense)            (None, 64)                8256      \n",
            "                                                                 \n",
            " dense_53 (Dense)            (None, 1)                 65        \n",
            "                                                                 \n",
            "=================================================================\n",
            "Total params: 385793 (1.47 MB)\n",
            "Trainable params: 383489 (1.46 MB)\n",
            "Non-trainable params: 2304 (9.00 KB)\n",
            "_________________________________________________________________\n"
          ]
        },
        {
          "output_type": "execute_result",
          "data": {
            "text/plain": [
              "<keras.src.callbacks.History at 0x7e10127b7d30>"
            ]
          },
          "metadata": {},
          "execution_count": 49
        }
      ]
    },
    {
      "cell_type": "code",
      "source": [
        "mae = mean_absolute_error(y_test, model_regression.predict(X_test, verbose=None))\n",
        "mse = mean_squared_error(y_test, model_regression.predict(X_test, verbose=None))\n",
        "r2 = r2_score(y_test, model_regression.predict(X_test, verbose=None))"
      ],
      "metadata": {
        "id": "b8WksAwHJlE7"
      },
      "execution_count": null,
      "outputs": []
    },
    {
      "cell_type": "code",
      "source": [
        "print(mae, mse, r2)\n",
        "\n",
        "models_metrics['Gen2'] = {'r2_score': r2, 'mae': mae, 'mse': mse}"
      ],
      "metadata": {
        "colab": {
          "base_uri": "https://localhost:8080/"
        },
        "id": "VJY-O2urawde",
        "outputId": "5321a5d8-6228-43f1-e501-be7ceee10c8f"
      },
      "execution_count": null,
      "outputs": [
        {
          "output_type": "stream",
          "name": "stdout",
          "text": [
            "2233409938.997526 5.928607501089895e+21 -57.45514344367619\n"
          ]
        }
      ]
    },
    {
      "cell_type": "markdown",
      "source": [
        "#### Третья версия"
      ],
      "metadata": {
        "id": "2HYpdzFWayUX"
      }
    },
    {
      "cell_type": "code",
      "source": [
        "model_regression = tf.keras.Sequential(\n",
        "    [\n",
        "        tf.keras.layers.Dense(128, activation=\"relu\", input_shape=(300,)),\n",
        "        tf.keras.layers.Dropout(0.1),\n",
        "        tf.keras.layers.BatchNormalization(),\n",
        "\n",
        "        tf.keras.layers.Dense(256, activation=\"relu\"),\n",
        "        tf.keras.layers.Dropout(0.1),\n",
        "        tf.keras.layers.BatchNormalization(),\n",
        "\n",
        "        tf.keras.layers.Dense(512, activation=\"relu\"),\n",
        "        tf.keras.layers.Dropout(0.2),\n",
        "        tf.keras.layers.BatchNormalization(),\n",
        "\n",
        "        tf.keras.layers.Dense(512, activation=\"relu\"),\n",
        "        tf.keras.layers.Dropout(0.2),\n",
        "        tf.keras.layers.BatchNormalization(),\n",
        "\n",
        "        tf.keras.layers.Dense(256, activation=\"relu\"),\n",
        "        tf.keras.layers.Dropout(0.1),\n",
        "        tf.keras.layers.BatchNormalization(),\n",
        "\n",
        "        tf.keras.layers.Dense(128, activation=\"relu\"),\n",
        "        tf.keras.layers.Dropout(0.1),\n",
        "        tf.keras.layers.BatchNormalization(),\n",
        "\n",
        "        tf.keras.layers.Dense(64, activation=\"relu\"),\n",
        "        tf.keras.layers.Dropout(0.1),\n",
        "\n",
        "        tf.keras.layers.Dense(32, activation=\"relu\"),\n",
        "        tf.keras.layers.Dense(1, activation=\"linear\"),\n",
        "    ]\n",
        ")\n",
        "\n",
        "model_regression.summary()\n",
        "model_regression.compile(optimizer=tf.keras.optimizers.RMSprop(learning_rate=0.01), loss=\"mse\")\n",
        "model_regression.fit(X_train, y_train, epochs=50, verbose=None)\n",
        "\n",
        "mae = mean_absolute_error(y_test, model_regression.predict(X_test, verbose=None))\n",
        "mse = mean_squared_error(y_test, model_regression.predict(X_test, verbose=None))\n",
        "r2 = r2_score(y_test, model_regression.predict(X_test, verbose=None))"
      ],
      "metadata": {
        "id": "G42eYCQsJ9os",
        "colab": {
          "base_uri": "https://localhost:8080/"
        },
        "outputId": "62ca9c28-7b7e-4ae8-e146-6134444ccb83"
      },
      "execution_count": null,
      "outputs": [
        {
          "output_type": "stream",
          "name": "stdout",
          "text": [
            "Model: \"sequential_8\"\n",
            "_________________________________________________________________\n",
            " Layer (type)                Output Shape              Param #   \n",
            "=================================================================\n",
            " dense_54 (Dense)            (None, 128)               38528     \n",
            "                                                                 \n",
            " dropout_28 (Dropout)        (None, 128)               0         \n",
            "                                                                 \n",
            " batch_normalization_22 (Ba  (None, 128)               512       \n",
            " tchNormalization)                                               \n",
            "                                                                 \n",
            " dense_55 (Dense)            (None, 256)               33024     \n",
            "                                                                 \n",
            " dropout_29 (Dropout)        (None, 256)               0         \n",
            "                                                                 \n",
            " batch_normalization_23 (Ba  (None, 256)               1024      \n",
            " tchNormalization)                                               \n",
            "                                                                 \n",
            " dense_56 (Dense)            (None, 512)               131584    \n",
            "                                                                 \n",
            " dropout_30 (Dropout)        (None, 512)               0         \n",
            "                                                                 \n",
            " batch_normalization_24 (Ba  (None, 512)               2048      \n",
            " tchNormalization)                                               \n",
            "                                                                 \n",
            " dense_57 (Dense)            (None, 512)               262656    \n",
            "                                                                 \n",
            " dropout_31 (Dropout)        (None, 512)               0         \n",
            "                                                                 \n",
            " batch_normalization_25 (Ba  (None, 512)               2048      \n",
            " tchNormalization)                                               \n",
            "                                                                 \n",
            " dense_58 (Dense)            (None, 256)               131328    \n",
            "                                                                 \n",
            " dropout_32 (Dropout)        (None, 256)               0         \n",
            "                                                                 \n",
            " batch_normalization_26 (Ba  (None, 256)               1024      \n",
            " tchNormalization)                                               \n",
            "                                                                 \n",
            " dense_59 (Dense)            (None, 128)               32896     \n",
            "                                                                 \n",
            " dropout_33 (Dropout)        (None, 128)               0         \n",
            "                                                                 \n",
            " batch_normalization_27 (Ba  (None, 128)               512       \n",
            " tchNormalization)                                               \n",
            "                                                                 \n",
            " dense_60 (Dense)            (None, 64)                8256      \n",
            "                                                                 \n",
            " dropout_34 (Dropout)        (None, 64)                0         \n",
            "                                                                 \n",
            " dense_61 (Dense)            (None, 32)                2080      \n",
            "                                                                 \n",
            " dense_62 (Dense)            (None, 1)                 33        \n",
            "                                                                 \n",
            "=================================================================\n",
            "Total params: 647553 (2.47 MB)\n",
            "Trainable params: 643969 (2.46 MB)\n",
            "Non-trainable params: 3584 (14.00 KB)\n",
            "_________________________________________________________________\n"
          ]
        }
      ]
    },
    {
      "cell_type": "code",
      "source": [
        "print(mae, mse, 2)\n",
        "\n",
        "models_metrics['Gen3'] = {'r2_score': r2, 'mae': mae, 'mse': mse}"
      ],
      "metadata": {
        "colab": {
          "base_uri": "https://localhost:8080/"
        },
        "id": "32sHhd5Oco45",
        "outputId": "fffefb10-06b7-42c0-cdb4-2cad9102d541"
      },
      "execution_count": null,
      "outputs": [
        {
          "output_type": "stream",
          "name": "stdout",
          "text": [
            "5.920803775602294e+17 5.566805531407967e+38 2\n"
          ]
        }
      ]
    },
    {
      "cell_type": "markdown",
      "source": [
        "## Выбор модели для дальнейшего использования"
      ],
      "metadata": {
        "id": "Vv3HYX1Q3EHe"
      }
    },
    {
      "cell_type": "markdown",
      "source": [
        "После обучения каждой модели, были полученны их метрики: r2, mae, mse. Далее будет выбрана модель на основе этих метрик."
      ],
      "metadata": {
        "id": "NDy4OChQWbM-"
      }
    },
    {
      "cell_type": "code",
      "source": [
        "def compare_models(models_metrics):\n",
        "    # Ini abstract best scores\n",
        "    best_r2_score = -float('inf')  # Maximization\n",
        "    best_mae = float('inf')        # Minimization\n",
        "    best_mse = float('inf')        # Minimization\n",
        "\n",
        "    best_r2_model = None\n",
        "    best_mae_model = None\n",
        "    best_mse_model = None\n",
        "\n",
        "    for model, metrics in models_metrics.items():\n",
        "        # Search for best r2_score\n",
        "        if metrics['r2_score'] > best_r2_score:\n",
        "            best_r2_score = metrics['r2_score']\n",
        "            best_r2_model = model\n",
        "\n",
        "        # Search for best MAE\n",
        "        if metrics['mae'] < best_mae:\n",
        "            best_mae = metrics['mae']\n",
        "            best_mae_model = model\n",
        "\n",
        "        # Search for best MSE\n",
        "        if metrics['mse'] < best_mse:\n",
        "            best_mse = metrics['mse']\n",
        "            best_mse_model = model\n",
        "\n",
        "    return {\n",
        "        'best_r2_model': best_r2_model,\n",
        "        'best_r2_score': best_r2_score,\n",
        "        'best_mae_model': best_mae_model,\n",
        "        'best_mae': best_mae,\n",
        "        'best_mse_model': best_mse_model,\n",
        "        'best_mse': best_mse\n",
        "    }"
      ],
      "metadata": {
        "id": "xuRN7y7uMw7_"
      },
      "execution_count": null,
      "outputs": []
    },
    {
      "cell_type": "code",
      "source": [
        "best_model = compare_models(models_metrics)\n",
        "print(models_metrics)\n",
        "print(best_model)"
      ],
      "metadata": {
        "id": "Xli5W5kFBjnB",
        "colab": {
          "base_uri": "https://localhost:8080/"
        },
        "outputId": "8ef56c78-e4f5-4157-b9f7-78027001e475"
      },
      "execution_count": null,
      "outputs": [
        {
          "output_type": "stream",
          "name": "stdout",
          "text": [
            "{'LinearRegression': {'r2_score': 0.0007962318070418029, 'mae': 278416933.77772063, 'mse': 1.0134073079358631e+20}, 'Ridge': {'r2_score': 0.0007890084448448631, 'mae': 277504803.9675785, 'mse': 1.0134146339771284e+20}, 'Lasso': {'r2_score': 0.0007959787722991996, 'mae': 278371447.23419374, 'mse': 1.0134075645674586e+20}, 'ElasticNet': {'r2_score': 0.0004955636945098707, 'mae': 260912874.87386024, 'mse': 1.0137122500029392e+20}, 'CatBoostRegressor': {'r2_score': 0.0004012569144415945, 'mae': 248118759.31010446, 'mse': 1.0138078973405007e+20}, 'SVR': {'r2_score': -0.028601266225374067, 'mae': 61265972.27337809, 'mse': 1.0839103188401069e+17}, 'MLPRegressor': {'r2_score': -0.00036680373394615273, 'mae': 230540132.00836092, 'mse': 1.0145868758619906e+20}, 'Gen2': {'r2_score': -57.45514344367619, 'mae': 2233409938.997526, 'mse': 5.928607501089895e+21}, 'Gen1': {'r2_score': -0.0005108158752800129, 'mae': 228356919.24675754, 'mse': 1.0147329351154732e+20}, 'Gen3': {'r2_score': -5.488783256467575e+18, 'mae': 5.920803775602294e+17, 'mse': 5.566805531407967e+38}}\n",
            "{'best_r2_model': 'LinearRegression', 'best_r2_score': 0.0007962318070418029, 'best_mae_model': 'SVR', 'best_mae': 61265972.27337809, 'best_mse_model': 'SVR', 'best_mse': 1.0839103188401069e+17}\n"
          ]
        }
      ]
    },
    {
      "cell_type": "markdown",
      "source": [
        "## Сериализация выбраной, обученной модели"
      ],
      "metadata": {
        "id": "6aDP_MriSvIF"
      }
    },
    {
      "cell_type": "code",
      "source": [
        "pickle.dump(svr, open('/content/drive/MyDrive/ВКР_External/SVR.sav', 'wb'))\n",
        "pickle.dump(pca, open('/content/drive/MyDrive/ВКР_External/PCA.sav', 'wb'))\n",
        "pickle.dump(scaler, open('/content/drive/MyDrive/ВКР_External/SCLR.sav', 'wb'))"
      ],
      "metadata": {
        "id": "GRljgxzRSusV"
      },
      "execution_count": null,
      "outputs": []
    },
    {
      "cell_type": "markdown",
      "source": [
        "## Работа с обученной моделью"
      ],
      "metadata": {
        "id": "iKdJ_SG92-ET"
      }
    },
    {
      "cell_type": "markdown",
      "source": [
        "Теперь можно написать веб-приложение для работы с нашей моделью. Для это используем библиотеку [streamlit](https://streamlit.io/#install)"
      ],
      "metadata": {
        "id": "53fg7_MM1QnG"
      }
    },
    {
      "cell_type": "markdown",
      "source": [
        "Приложение просит на вход описание фильма, затем выдаёт предпологаемый кассовый сбор:"
      ],
      "metadata": {
        "id": "zOb2XQ_Y1jjE"
      }
    },
    {
      "cell_type": "markdown",
      "source": [
        "![image.png](data:image/png;base64,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)"
      ],
      "metadata": {
        "id": "vQOF6SZB175o"
      }
    }
  ]
}